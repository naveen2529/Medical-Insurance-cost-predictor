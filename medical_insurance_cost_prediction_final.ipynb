{
 "cells": [
  {
   "cell_type": "markdown",
   "id": "6f45772b-c00a-4eb7-83a1-48869d8fca95",
   "metadata": {},
   "source": [
    "## Mini Project :- Medical Insurance Cost Prediction\n",
    "### Assignment Submitted By :- Naveen Kumar\n",
    "### Mobile No :- 9671833292"
   ]
  },
  {
   "cell_type": "markdown",
   "id": "cabcff6b-0b31-443d-b566-d22ca3d1df01",
   "metadata": {},
   "source": [
    "## Importing Liabrary"
   ]
  },
  {
   "cell_type": "code",
   "execution_count": 3,
   "id": "f766f553-eeb6-4f63-9579-b1b9ac7ee9bf",
   "metadata": {},
   "outputs": [],
   "source": [
    "import warnings\n",
    "warnings.filterwarnings('ignore')\n"
   ]
  },
  {
   "cell_type": "code",
   "execution_count": 4,
   "id": "e746aee4-75db-45c6-ad22-c6d89eda2ce4",
   "metadata": {},
   "outputs": [],
   "source": [
    "import pandas as pd\n",
    "import numpy as np\n",
    "import seaborn as sns\n",
    "import matplotlib.pyplot as plt\n",
    "from sklearn.preprocessing import StandardScaler\n",
    "from scipy.stats import skew\n",
    "from sklearn.linear_model import LinearRegression\n",
    "from sklearn.metrics import mean_absolute_error, mean_squared_error, r2_score\n",
    "from sklearn.model_selection import train_test_split\n",
    "from sklearn.linear_model import Ridge\n",
    "from sklearn.linear_model import Lasso\n",
    "from sklearn.linear_model import ElasticNet\n",
    "from sklearn.ensemble import RandomForestRegressor\n",
    "from sklearn.ensemble import GradientBoostingRegressor\n",
    "from sklearn.svm import SVR\n",
    "from sklearn.neighbors import KNeighborsRegressor\n",
    "from sklearn.tree import DecisionTreeRegressor\n",
    "from sklearn.ensemble import AdaBoostRegressor, VotingRegressor\n",
    "from sklearn.model_selection import GridSearchCV\n",
    "import streamlit as st\n",
    "import joblib"
   ]
  },
  {
   "cell_type": "markdown",
   "id": "c93319c2-af24-46bf-9233-97abcf356b73",
   "metadata": {},
   "source": [
    "### Loading the excel into Jupyter Notebook"
   ]
  },
  {
   "cell_type": "code",
   "execution_count": 6,
   "id": "2f135621-9565-4ea5-bd25-9005774add16",
   "metadata": {},
   "outputs": [
    {
     "name": "stdout",
     "output_type": "stream",
     "text": [
      "   age     sex     bmi  children smoker     region      charges\n",
      "0   19  female  27.900         0    yes  southwest  16884.92400\n",
      "1   18    male  33.770         1     no  southeast   1725.55230\n",
      "2   28    male  33.000         3     no  southeast   4449.46200\n",
      "3   33    male  22.705         0     no  northwest  21984.47061\n",
      "4   32    male  28.880         0     no  northwest   3866.85520\n"
     ]
    }
   ],
   "source": [
    "# Define the path to the Excel file\n",
    "file_path = \"Medical Insurance cost prediction.xlsx\"\n",
    "\n",
    "# Load the Excel file\n",
    "df = pd.read_excel(file_path, sheet_name='Health_Insurance')\n",
    "\n",
    "# Display the first few rows\n",
    "print(df.head())\n"
   ]
  },
  {
   "cell_type": "markdown",
   "id": "1690a87f-db0d-423e-b31a-0e3f462300cc",
   "metadata": {},
   "source": [
    "### Top 5 Record In DataSet"
   ]
  },
  {
   "cell_type": "code",
   "execution_count": 8,
   "id": "70d3f594-225e-410b-8089-79e686f7fd41",
   "metadata": {},
   "outputs": [
    {
     "data": {
      "text/html": [
       "<div>\n",
       "<style scoped>\n",
       "    .dataframe tbody tr th:only-of-type {\n",
       "        vertical-align: middle;\n",
       "    }\n",
       "\n",
       "    .dataframe tbody tr th {\n",
       "        vertical-align: top;\n",
       "    }\n",
       "\n",
       "    .dataframe thead th {\n",
       "        text-align: right;\n",
       "    }\n",
       "</style>\n",
       "<table border=\"1\" class=\"dataframe\">\n",
       "  <thead>\n",
       "    <tr style=\"text-align: right;\">\n",
       "      <th></th>\n",
       "      <th>age</th>\n",
       "      <th>sex</th>\n",
       "      <th>bmi</th>\n",
       "      <th>children</th>\n",
       "      <th>smoker</th>\n",
       "      <th>region</th>\n",
       "      <th>charges</th>\n",
       "    </tr>\n",
       "  </thead>\n",
       "  <tbody>\n",
       "    <tr>\n",
       "      <th>0</th>\n",
       "      <td>19</td>\n",
       "      <td>female</td>\n",
       "      <td>27.900</td>\n",
       "      <td>0</td>\n",
       "      <td>yes</td>\n",
       "      <td>southwest</td>\n",
       "      <td>16884.92400</td>\n",
       "    </tr>\n",
       "    <tr>\n",
       "      <th>1</th>\n",
       "      <td>18</td>\n",
       "      <td>male</td>\n",
       "      <td>33.770</td>\n",
       "      <td>1</td>\n",
       "      <td>no</td>\n",
       "      <td>southeast</td>\n",
       "      <td>1725.55230</td>\n",
       "    </tr>\n",
       "    <tr>\n",
       "      <th>2</th>\n",
       "      <td>28</td>\n",
       "      <td>male</td>\n",
       "      <td>33.000</td>\n",
       "      <td>3</td>\n",
       "      <td>no</td>\n",
       "      <td>southeast</td>\n",
       "      <td>4449.46200</td>\n",
       "    </tr>\n",
       "    <tr>\n",
       "      <th>3</th>\n",
       "      <td>33</td>\n",
       "      <td>male</td>\n",
       "      <td>22.705</td>\n",
       "      <td>0</td>\n",
       "      <td>no</td>\n",
       "      <td>northwest</td>\n",
       "      <td>21984.47061</td>\n",
       "    </tr>\n",
       "    <tr>\n",
       "      <th>4</th>\n",
       "      <td>32</td>\n",
       "      <td>male</td>\n",
       "      <td>28.880</td>\n",
       "      <td>0</td>\n",
       "      <td>no</td>\n",
       "      <td>northwest</td>\n",
       "      <td>3866.85520</td>\n",
       "    </tr>\n",
       "  </tbody>\n",
       "</table>\n",
       "</div>"
      ],
      "text/plain": [
       "   age     sex     bmi  children smoker     region      charges\n",
       "0   19  female  27.900         0    yes  southwest  16884.92400\n",
       "1   18    male  33.770         1     no  southeast   1725.55230\n",
       "2   28    male  33.000         3     no  southeast   4449.46200\n",
       "3   33    male  22.705         0     no  northwest  21984.47061\n",
       "4   32    male  28.880         0     no  northwest   3866.85520"
      ]
     },
     "execution_count": 8,
     "metadata": {},
     "output_type": "execute_result"
    }
   ],
   "source": [
    "df.head()"
   ]
  },
  {
   "cell_type": "markdown",
   "id": "7a748ad6-661c-4f34-a415-f2d54a956f1e",
   "metadata": {},
   "source": [
    "### Last Record In Data Set"
   ]
  },
  {
   "cell_type": "code",
   "execution_count": 10,
   "id": "4a387251-5451-4171-946f-0ed869e82a5d",
   "metadata": {},
   "outputs": [
    {
     "data": {
      "text/html": [
       "<div>\n",
       "<style scoped>\n",
       "    .dataframe tbody tr th:only-of-type {\n",
       "        vertical-align: middle;\n",
       "    }\n",
       "\n",
       "    .dataframe tbody tr th {\n",
       "        vertical-align: top;\n",
       "    }\n",
       "\n",
       "    .dataframe thead th {\n",
       "        text-align: right;\n",
       "    }\n",
       "</style>\n",
       "<table border=\"1\" class=\"dataframe\">\n",
       "  <thead>\n",
       "    <tr style=\"text-align: right;\">\n",
       "      <th></th>\n",
       "      <th>age</th>\n",
       "      <th>sex</th>\n",
       "      <th>bmi</th>\n",
       "      <th>children</th>\n",
       "      <th>smoker</th>\n",
       "      <th>region</th>\n",
       "      <th>charges</th>\n",
       "    </tr>\n",
       "  </thead>\n",
       "  <tbody>\n",
       "    <tr>\n",
       "      <th>1333</th>\n",
       "      <td>50</td>\n",
       "      <td>male</td>\n",
       "      <td>30.97</td>\n",
       "      <td>3</td>\n",
       "      <td>no</td>\n",
       "      <td>northwest</td>\n",
       "      <td>10600.5483</td>\n",
       "    </tr>\n",
       "    <tr>\n",
       "      <th>1334</th>\n",
       "      <td>18</td>\n",
       "      <td>female</td>\n",
       "      <td>31.92</td>\n",
       "      <td>0</td>\n",
       "      <td>no</td>\n",
       "      <td>northeast</td>\n",
       "      <td>2205.9808</td>\n",
       "    </tr>\n",
       "    <tr>\n",
       "      <th>1335</th>\n",
       "      <td>18</td>\n",
       "      <td>female</td>\n",
       "      <td>36.85</td>\n",
       "      <td>0</td>\n",
       "      <td>no</td>\n",
       "      <td>southeast</td>\n",
       "      <td>1629.8335</td>\n",
       "    </tr>\n",
       "    <tr>\n",
       "      <th>1336</th>\n",
       "      <td>21</td>\n",
       "      <td>female</td>\n",
       "      <td>25.80</td>\n",
       "      <td>0</td>\n",
       "      <td>no</td>\n",
       "      <td>southwest</td>\n",
       "      <td>2007.9450</td>\n",
       "    </tr>\n",
       "    <tr>\n",
       "      <th>1337</th>\n",
       "      <td>61</td>\n",
       "      <td>female</td>\n",
       "      <td>29.07</td>\n",
       "      <td>0</td>\n",
       "      <td>yes</td>\n",
       "      <td>northwest</td>\n",
       "      <td>29141.3603</td>\n",
       "    </tr>\n",
       "  </tbody>\n",
       "</table>\n",
       "</div>"
      ],
      "text/plain": [
       "      age     sex    bmi  children smoker     region     charges\n",
       "1333   50    male  30.97         3     no  northwest  10600.5483\n",
       "1334   18  female  31.92         0     no  northeast   2205.9808\n",
       "1335   18  female  36.85         0     no  southeast   1629.8335\n",
       "1336   21  female  25.80         0     no  southwest   2007.9450\n",
       "1337   61  female  29.07         0    yes  northwest  29141.3603"
      ]
     },
     "execution_count": 10,
     "metadata": {},
     "output_type": "execute_result"
    }
   ],
   "source": [
    "df.tail()"
   ]
  },
  {
   "cell_type": "markdown",
   "id": "d3ab479a-0c82-4236-8a5b-44a32d4f810a",
   "metadata": {},
   "source": [
    "### Sample 5 Record In Data Set"
   ]
  },
  {
   "cell_type": "code",
   "execution_count": 12,
   "id": "e9fb77be-1268-4a37-865d-418818d834bd",
   "metadata": {},
   "outputs": [
    {
     "data": {
      "text/html": [
       "<div>\n",
       "<style scoped>\n",
       "    .dataframe tbody tr th:only-of-type {\n",
       "        vertical-align: middle;\n",
       "    }\n",
       "\n",
       "    .dataframe tbody tr th {\n",
       "        vertical-align: top;\n",
       "    }\n",
       "\n",
       "    .dataframe thead th {\n",
       "        text-align: right;\n",
       "    }\n",
       "</style>\n",
       "<table border=\"1\" class=\"dataframe\">\n",
       "  <thead>\n",
       "    <tr style=\"text-align: right;\">\n",
       "      <th></th>\n",
       "      <th>age</th>\n",
       "      <th>sex</th>\n",
       "      <th>bmi</th>\n",
       "      <th>children</th>\n",
       "      <th>smoker</th>\n",
       "      <th>region</th>\n",
       "      <th>charges</th>\n",
       "    </tr>\n",
       "  </thead>\n",
       "  <tbody>\n",
       "    <tr>\n",
       "      <th>484</th>\n",
       "      <td>48</td>\n",
       "      <td>male</td>\n",
       "      <td>34.300</td>\n",
       "      <td>3</td>\n",
       "      <td>no</td>\n",
       "      <td>southwest</td>\n",
       "      <td>9563.02900</td>\n",
       "    </tr>\n",
       "    <tr>\n",
       "      <th>807</th>\n",
       "      <td>19</td>\n",
       "      <td>female</td>\n",
       "      <td>36.575</td>\n",
       "      <td>0</td>\n",
       "      <td>no</td>\n",
       "      <td>northwest</td>\n",
       "      <td>2136.88225</td>\n",
       "    </tr>\n",
       "    <tr>\n",
       "      <th>118</th>\n",
       "      <td>49</td>\n",
       "      <td>female</td>\n",
       "      <td>27.170</td>\n",
       "      <td>0</td>\n",
       "      <td>no</td>\n",
       "      <td>southeast</td>\n",
       "      <td>8601.32930</td>\n",
       "    </tr>\n",
       "    <tr>\n",
       "      <th>697</th>\n",
       "      <td>41</td>\n",
       "      <td>male</td>\n",
       "      <td>35.750</td>\n",
       "      <td>1</td>\n",
       "      <td>yes</td>\n",
       "      <td>southeast</td>\n",
       "      <td>40273.64550</td>\n",
       "    </tr>\n",
       "    <tr>\n",
       "      <th>632</th>\n",
       "      <td>29</td>\n",
       "      <td>female</td>\n",
       "      <td>35.530</td>\n",
       "      <td>0</td>\n",
       "      <td>no</td>\n",
       "      <td>southeast</td>\n",
       "      <td>3366.66970</td>\n",
       "    </tr>\n",
       "  </tbody>\n",
       "</table>\n",
       "</div>"
      ],
      "text/plain": [
       "     age     sex     bmi  children smoker     region      charges\n",
       "484   48    male  34.300         3     no  southwest   9563.02900\n",
       "807   19  female  36.575         0     no  northwest   2136.88225\n",
       "118   49  female  27.170         0     no  southeast   8601.32930\n",
       "697   41    male  35.750         1    yes  southeast  40273.64550\n",
       "632   29  female  35.530         0     no  southeast   3366.66970"
      ]
     },
     "execution_count": 12,
     "metadata": {},
     "output_type": "execute_result"
    }
   ],
   "source": [
    "df.sample(5)"
   ]
  },
  {
   "cell_type": "markdown",
   "id": "4b1e27cb-bb8e-4fb9-93fa-e1dbb66dba44",
   "metadata": {},
   "source": [
    "### Basic Information Of DataSet"
   ]
  },
  {
   "cell_type": "code",
   "execution_count": 14,
   "id": "cc07d673-9c52-455d-8905-2066fd654bf6",
   "metadata": {},
   "outputs": [
    {
     "data": {
      "text/plain": [
       "<bound method DataFrame.info of       age     sex     bmi  children smoker     region      charges\n",
       "0      19  female  27.900         0    yes  southwest  16884.92400\n",
       "1      18    male  33.770         1     no  southeast   1725.55230\n",
       "2      28    male  33.000         3     no  southeast   4449.46200\n",
       "3      33    male  22.705         0     no  northwest  21984.47061\n",
       "4      32    male  28.880         0     no  northwest   3866.85520\n",
       "...   ...     ...     ...       ...    ...        ...          ...\n",
       "1333   50    male  30.970         3     no  northwest  10600.54830\n",
       "1334   18  female  31.920         0     no  northeast   2205.98080\n",
       "1335   18  female  36.850         0     no  southeast   1629.83350\n",
       "1336   21  female  25.800         0     no  southwest   2007.94500\n",
       "1337   61  female  29.070         0    yes  northwest  29141.36030\n",
       "\n",
       "[1338 rows x 7 columns]>"
      ]
     },
     "execution_count": 14,
     "metadata": {},
     "output_type": "execute_result"
    }
   ],
   "source": [
    "df.info"
   ]
  },
  {
   "cell_type": "markdown",
   "id": "0071b9b4-916b-479e-8a39-630b0550d91e",
   "metadata": {},
   "source": [
    "### Basic Statistics Of The DataSet"
   ]
  },
  {
   "cell_type": "code",
   "execution_count": 16,
   "id": "f2646bd6-e19a-4219-8df1-fcbcffa04769",
   "metadata": {},
   "outputs": [
    {
     "data": {
      "text/html": [
       "<div>\n",
       "<style scoped>\n",
       "    .dataframe tbody tr th:only-of-type {\n",
       "        vertical-align: middle;\n",
       "    }\n",
       "\n",
       "    .dataframe tbody tr th {\n",
       "        vertical-align: top;\n",
       "    }\n",
       "\n",
       "    .dataframe thead th {\n",
       "        text-align: right;\n",
       "    }\n",
       "</style>\n",
       "<table border=\"1\" class=\"dataframe\">\n",
       "  <thead>\n",
       "    <tr style=\"text-align: right;\">\n",
       "      <th></th>\n",
       "      <th>age</th>\n",
       "      <th>bmi</th>\n",
       "      <th>children</th>\n",
       "      <th>charges</th>\n",
       "    </tr>\n",
       "  </thead>\n",
       "  <tbody>\n",
       "    <tr>\n",
       "      <th>count</th>\n",
       "      <td>1338.000000</td>\n",
       "      <td>1338.000000</td>\n",
       "      <td>1338.000000</td>\n",
       "      <td>1338.000000</td>\n",
       "    </tr>\n",
       "    <tr>\n",
       "      <th>mean</th>\n",
       "      <td>39.207025</td>\n",
       "      <td>30.663397</td>\n",
       "      <td>1.094918</td>\n",
       "      <td>13270.422265</td>\n",
       "    </tr>\n",
       "    <tr>\n",
       "      <th>std</th>\n",
       "      <td>14.049960</td>\n",
       "      <td>6.098187</td>\n",
       "      <td>1.205493</td>\n",
       "      <td>12110.011237</td>\n",
       "    </tr>\n",
       "    <tr>\n",
       "      <th>min</th>\n",
       "      <td>18.000000</td>\n",
       "      <td>15.960000</td>\n",
       "      <td>0.000000</td>\n",
       "      <td>1121.873900</td>\n",
       "    </tr>\n",
       "    <tr>\n",
       "      <th>25%</th>\n",
       "      <td>27.000000</td>\n",
       "      <td>26.296250</td>\n",
       "      <td>0.000000</td>\n",
       "      <td>4740.287150</td>\n",
       "    </tr>\n",
       "    <tr>\n",
       "      <th>50%</th>\n",
       "      <td>39.000000</td>\n",
       "      <td>30.400000</td>\n",
       "      <td>1.000000</td>\n",
       "      <td>9382.033000</td>\n",
       "    </tr>\n",
       "    <tr>\n",
       "      <th>75%</th>\n",
       "      <td>51.000000</td>\n",
       "      <td>34.693750</td>\n",
       "      <td>2.000000</td>\n",
       "      <td>16639.912515</td>\n",
       "    </tr>\n",
       "    <tr>\n",
       "      <th>max</th>\n",
       "      <td>64.000000</td>\n",
       "      <td>53.130000</td>\n",
       "      <td>5.000000</td>\n",
       "      <td>63770.428010</td>\n",
       "    </tr>\n",
       "  </tbody>\n",
       "</table>\n",
       "</div>"
      ],
      "text/plain": [
       "               age          bmi     children       charges\n",
       "count  1338.000000  1338.000000  1338.000000   1338.000000\n",
       "mean     39.207025    30.663397     1.094918  13270.422265\n",
       "std      14.049960     6.098187     1.205493  12110.011237\n",
       "min      18.000000    15.960000     0.000000   1121.873900\n",
       "25%      27.000000    26.296250     0.000000   4740.287150\n",
       "50%      39.000000    30.400000     1.000000   9382.033000\n",
       "75%      51.000000    34.693750     2.000000  16639.912515\n",
       "max      64.000000    53.130000     5.000000  63770.428010"
      ]
     },
     "execution_count": 16,
     "metadata": {},
     "output_type": "execute_result"
    }
   ],
   "source": [
    "df.describe()"
   ]
  },
  {
   "cell_type": "markdown",
   "id": "f208f11d-2748-439f-99b0-d76ac01bbbf2",
   "metadata": {},
   "source": [
    "### Visualization"
   ]
  },
  {
   "cell_type": "markdown",
   "id": "052687b7-514c-4218-8d62-ceff33ab426f",
   "metadata": {},
   "source": [
    "### Distribution Of Age"
   ]
  },
  {
   "cell_type": "code",
   "execution_count": 19,
   "id": "d6d60274-9ff7-4df8-93b4-8d489363cdd3",
   "metadata": {},
   "outputs": [
    {
     "data": {
      "image/png": "[encoded data removed]",
      "text/plain": [
       "<Figure size 600x400 with 1 Axes>"
      ]
     },
     "metadata": {},
     "output_type": "display_data"
    }
   ],
   "source": [
    "# Set plot style\n",
    "sns.set(style=\"whitegrid\")\n",
    "\n",
    "# Distribution of Age\n",
    "plt.figure(figsize=(6, 4))\n",
    "sns.histplot(df['age'], bins=30, kde=True)\n",
    "plt.title('Age Distribution')\n",
    "plt.xlabel('Age')\n",
    "plt.ylabel('Count')\n",
    "plt.show()\n",
    "\n"
   ]
  },
  {
   "cell_type": "markdown",
   "id": "d4e6b0de-e14b-498d-b980-33590262e899",
   "metadata": {},
   "source": [
    "### Distribution Of BMI"
   ]
  },
  {
   "cell_type": "code",
   "execution_count": 21,
   "id": "e8dcb45b-09cb-4567-8205-7a47f82820a7",
   "metadata": {},
   "outputs": [
    {
     "data": {
      "image/png": "[encoded data removed]",
      "text/plain": [
       "<Figure size 600x400 with 1 Axes>"
      ]
     },
     "metadata": {},
     "output_type": "display_data"
    }
   ],
   "source": [
    "# Distribution of BMI\n",
    "plt.figure(figsize=(6, 4))\n",
    "sns.histplot(df['bmi'], bins=30, kde=True)\n",
    "plt.title('BMI Distribution')\n",
    "plt.xlabel('BMI')\n",
    "plt.ylabel('Count')\n",
    "plt.show()\n"
   ]
  },
  {
   "cell_type": "markdown",
   "id": "98d41b3b-5d78-467c-b9bd-cc91b68d523d",
   "metadata": {},
   "source": [
    "### Categorical variable Count"
   ]
  },
  {
   "cell_type": "code",
   "execution_count": 23,
   "id": "1b6a05b4-1aa6-4bf5-af95-5f8c326f58a4",
   "metadata": {},
   "outputs": [
    {
     "data": {
      "image/png": "[encoded data removed]",
      "text/plain": [
       "<Figure size 1200x400 with 3 Axes>"
      ]
     },
     "metadata": {},
     "output_type": "display_data"
    }
   ],
   "source": [
    "# Categorical Variable Counts\n",
    "plt.figure(figsize=(12, 4))\n",
    "for i, col in enumerate(['sex', 'smoker', 'region']):\n",
    "    plt.subplot(1, 3, i+1)\n",
    "    sns.countplot(data=df, x=col)\n",
    "    plt.title(f'Distribution of {col.capitalize()}')\n",
    "plt.tight_layout()\n",
    "plt.show()\n",
    "\n"
   ]
  },
  {
   "cell_type": "markdown",
   "id": "0138cd4e-844c-4788-ac47-b6cdb7757e50",
   "metadata": {},
   "source": [
    "### Distribution Of Charges"
   ]
  },
  {
   "cell_type": "code",
   "execution_count": 25,
   "id": "fe80785d-ed96-41e8-b7d8-6ead6461b904",
   "metadata": {},
   "outputs": [
    {
     "data": {
      "image/png": "[encoded data removed]",
      "text/plain": [
       "<Figure size 600x400 with 1 Axes>"
      ]
     },
     "metadata": {},
     "output_type": "display_data"
    }
   ],
   "source": [
    "# Distribution of Charges\n",
    "plt.figure(figsize=(6, 4))\n",
    "sns.histplot(df['charges'], bins=30, kde=True)\n",
    "plt.title('Charges Distribution')\n",
    "plt.xlabel('Charges')\n",
    "plt.ylabel('Count')\n",
    "plt.show()\n"
   ]
  },
  {
   "cell_type": "markdown",
   "id": "59486ed9-9db6-479a-85dd-d06d82eb2537",
   "metadata": {},
   "source": [
    "### Corelation Matrix"
   ]
  },
  {
   "cell_type": "code",
   "execution_count": 27,
   "id": "5a9f609a-c081-438f-81fb-f3e37c1bbcdc",
   "metadata": {},
   "outputs": [
    {
     "data": {
      "image/png": "[encoded data removed]",
      "text/plain": [
       "<Figure size 600x400 with 2 Axes>"
      ]
     },
     "metadata": {},
     "output_type": "display_data"
    }
   ],
   "source": [
    "# Correlation Heatmap\n",
    "plt.figure(figsize=(6, 4))\n",
    "sns.heatmap(df.corr(numeric_only=True), annot=True, cmap='coolwarm', fmt=\".2f\")\n",
    "plt.title(\"Correlation Heatmap\")\n",
    "plt.show()"
   ]
  },
  {
   "cell_type": "markdown",
   "id": "c8db4e53-f032-45ff-9735-561c333606c3",
   "metadata": {},
   "source": [
    "### Basic Info about dataset (shape,missing values,data type)"
   ]
  },
  {
   "cell_type": "code",
   "execution_count": 29,
   "id": "5b2ed553-1605-449a-be14-be17771025de",
   "metadata": {},
   "outputs": [
    {
     "name": "stdout",
     "output_type": "stream",
     "text": [
      "\n",
      "--- Shape ---\n",
      "(1338, 7)\n",
      "\n",
      "--- Columns ---\n",
      "['age', 'sex', 'bmi', 'children', 'smoker', 'region', 'charges']\n",
      "\n",
      "--- Missing Values ---\n",
      "{'age': 0, 'sex': 0, 'bmi': 0, 'children': 0, 'smoker': 0, 'region': 0, 'charges': 0}\n",
      "\n",
      "--- Data Types ---\n",
      "{'age': 'int64', 'sex': 'object', 'bmi': 'float64', 'children': 'int64', 'smoker': 'object', 'region': 'object', 'charges': 'float64'}\n",
      "\n",
      "--- Numeric Summary ---\n",
      "{'age': {'count': 1338.0, 'mean': 39.20702541106129, 'std': 14.049960379216172, 'min': 18.0, '25%': 27.0, '50%': 39.0, '75%': 51.0, 'max': 64.0}, 'bmi': {'count': 1338.0, 'mean': 30.66339686098655, 'std': 6.098186911679017, 'min': 15.96, '25%': 26.29625, '50%': 30.4, '75%': 34.69375, 'max': 53.13}, 'children': {'count': 1338.0, 'mean': 1.0949177877429, 'std': 1.2054927397819095, 'min': 0.0, '25%': 0.0, '50%': 1.0, '75%': 2.0, 'max': 5.0}, 'charges': {'count': 1338.0, 'mean': 13270.422265141257, 'std': 12110.011236693994, 'min': 1121.8739, '25%': 4740.28715, '50%': 9382.033, '75%': 16639.912515, 'max': 63770.42801}}\n",
      "\n",
      "--- Categorical Value Counts ---\n",
      "{'sex': {'male': 676, 'female': 662}, 'smoker': {'no': 1064, 'yes': 274}, 'region': {'southeast': 364, 'southwest': 325, 'northwest': 325, 'northeast': 324}}\n",
      "\n",
      "--- Correlation with Charges ---\n",
      "{'charges': 1.0, 'age': 0.299008193330648, 'bmi': 0.19834096883362912, 'children': 0.06799822684790495}\n"
     ]
    }
   ],
   "source": [
    "# Summary dictionary\n",
    "summary = {}\n",
    "# 1. Basic Info\n",
    "summary['Shape'] = df.shape\n",
    "summary['Columns'] = df.columns.tolist()\n",
    "summary['Missing Values'] = df.isnull().sum().to_dict()\n",
    "summary['Data Types'] = df.dtypes.astype(str).to_dict()\n",
    "\n",
    "\n",
    "# Numeric Descriptions\n",
    "summary['Numeric Summary'] = df.describe().to_dict()\n",
    "\n",
    "# Categorical Distributions\n",
    "categorical_cols = df.select_dtypes(include='object').columns\n",
    "summary['Categorical Value Counts'] = {col: df[col].value_counts().to_dict() for col in categorical_cols}\n",
    "\n",
    "# Correlation with Charges\n",
    "correlation_matrix = df.corr(numeric_only=True)\n",
    "summary['Correlation with Charges'] = correlation_matrix['charges'].sort_values(ascending=False).to_dict()\n",
    "\n",
    "# Print Summary\n",
    "for key, value in summary.items():\n",
    "    print(f\"\\n--- {key} ---\")\n",
    "    print(value)"
   ]
  },
  {
   "cell_type": "markdown",
   "id": "cc38d1a6-2eea-43e2-b0ea-0bab7435803b",
   "metadata": {},
   "source": [
    "### Checking for Missing Values"
   ]
  },
  {
   "cell_type": "code",
   "execution_count": 31,
   "id": "8087e468-27f1-432f-8e9d-e10737a8c628",
   "metadata": {},
   "outputs": [
    {
     "name": "stdout",
     "output_type": "stream",
     "text": [
      "Missing Values Per Column:\n",
      "age         0\n",
      "sex         0\n",
      "bmi         0\n",
      "children    0\n",
      "smoker      0\n",
      "region      0\n",
      "charges     0\n",
      "dtype: int64\n"
     ]
    }
   ],
   "source": [
    "# Check for missing values\n",
    "missing_values = df.isnull().sum()\n",
    "\n",
    "# Display missing value count per column\n",
    "print(\"Missing Values Per Column:\")\n",
    "print(missing_values)"
   ]
  },
  {
   "cell_type": "markdown",
   "id": "7043cb5a-1420-4d9a-87a7-d95f8cb4d91f",
   "metadata": {},
   "source": [
    "### Boxplot for each Column"
   ]
  },
  {
   "cell_type": "code",
   "execution_count": 33,
   "id": "ed5b1523-4bbb-416d-aa8d-0038a2fc629a",
   "metadata": {},
   "outputs": [
    {
     "data": {
      "image/png": "[encoded data removed]",
      "text/plain": [
       "<Figure size 1500x1000 with 4 Axes>"
      ]
     },
     "metadata": {},
     "output_type": "display_data"
    }
   ],
   "source": [
    "# Identify numeric columns\n",
    "numeric_cols = df.select_dtypes(include=['int64', 'float64']).columns\n",
    "\n",
    "# Create grid boxplots (2 rows x 2 columns)\n",
    "plt.figure(figsize=(15, 10))\n",
    "for i, col in enumerate(numeric_cols, 1):\n",
    "    plt.subplot(2, 2, i)\n",
    "    sns.boxplot(data=df, y=col)\n",
    "    plt.title(f'Boxplot of {col}')\n",
    "    plt.ylabel(col)\n",
    "plt.tight_layout()\n",
    "plt.show()"
   ]
  },
  {
   "cell_type": "markdown",
   "id": "b0a8b5a4-8656-4c73-8042-ed045e4c79ec",
   "metadata": {},
   "source": [
    "### Checking the outlier"
   ]
  },
  {
   "cell_type": "code",
   "execution_count": 35,
   "id": "d9575a02-5f54-401c-bdb2-9437807d355a",
   "metadata": {},
   "outputs": [
    {
     "name": "stdout",
     "output_type": "stream",
     "text": [
      "\n",
      "Outliers in 'age' (0 rows):\n",
      "Empty DataFrame\n",
      "Columns: [age]\n",
      "Index: []\n",
      "\n",
      "Outliers in 'bmi' (9 rows):\n",
      "       bmi\n",
      "116  49.06\n",
      "286  48.07\n",
      "401  47.52\n",
      "543  47.41\n",
      "847  50.38\n",
      "\n",
      "Outliers in 'children' (0 rows):\n",
      "Empty DataFrame\n",
      "Columns: [children]\n",
      "Index: []\n",
      "\n",
      "Outliers in 'charges' (139 rows):\n",
      "       charges\n",
      "14  39611.7577\n",
      "19  36837.4670\n",
      "23  37701.8768\n",
      "29  38711.0000\n",
      "30  35585.5760\n"
     ]
    }
   ],
   "source": [
    "# Function to detect outliers using IQR\n",
    "def detect_outliers_iqr(data, col):\n",
    "    Q1 = data[col].quantile(0.25)\n",
    "    Q3 = data[col].quantile(0.75)\n",
    "    IQR = Q3 - Q1\n",
    "    lower_bound = Q1 - 1.5 * IQR\n",
    "    upper_bound = Q3 + 1.5 * IQR\n",
    "    return data[(data[col] < lower_bound) | (data[col] > upper_bound)]\n",
    "\n",
    "# Check outliers for each numeric column\n",
    "numeric_cols = df.select_dtypes(include=['int64', 'float64']).columns\n",
    "\n",
    "# Store and display outliers\n",
    "for col in numeric_cols:\n",
    "    outliers = detect_outliers_iqr(df, col)\n",
    "    print(f\"\\nOutliers in '{col}' ({len(outliers)} rows):\")\n",
    "    print(outliers[[col]].head())  # Display top 5 outliers per column"
   ]
  },
  {
   "cell_type": "markdown",
   "id": "16e1411a-5278-4a6e-b32c-72a25a566c80",
   "metadata": {},
   "source": [
    "### Dealing With Outlier with capping Method with lower bound or upper bound value)"
   ]
  },
  {
   "cell_type": "code",
   "execution_count": 37,
   "id": "653679a9-21e7-4c72-b88a-89d556b8b38b",
   "metadata": {},
   "outputs": [
    {
     "name": "stdout",
     "output_type": "stream",
     "text": [
      "Outliers before capping:\n",
      "age: 0\n",
      "bmi: 9\n",
      "children: 0\n",
      "charges: 139\n",
      "\n",
      "Outliers after capping:\n",
      "age: 0\n",
      "bmi: 0\n",
      "children: 0\n",
      "charges: 0\n"
     ]
    }
   ],
   "source": [
    "# Step 1: Define outlier detection and capping functions\n",
    "def detect_outliers_iqr(data, col):\n",
    "    Q1 = data[col].quantile(0.25)\n",
    "    Q3 = data[col].quantile(0.75)\n",
    "    IQR = Q3 - Q1\n",
    "    lower_bound = Q1 - 1.5 * IQR\n",
    "    upper_bound = Q3 + 1.5 * IQR\n",
    "    return data[(data[col] < lower_bound) | (data[col] > upper_bound)]\n",
    "\n",
    "def cap_outliers_iqr(data, col):\n",
    "    Q1 = data[col].quantile(0.25)\n",
    "    Q3 = data[col].quantile(0.75)\n",
    "    IQR = Q3 - Q1\n",
    "    lower_bound = Q1 - 1.5 * IQR\n",
    "    upper_bound = Q3 + 1.5 * IQR\n",
    "    data[col] = data[col].clip(lower=lower_bound, upper=upper_bound)\n",
    "    return data\n",
    "\n",
    "# Step 2: Create copy of original data for comparison\n",
    "df_original = df.copy()\n",
    "df_capped = df.copy()\n",
    "\n",
    "# Step 3: Detect and cap outliers\n",
    "numeric_cols = df.select_dtypes(include=['int64', 'float64']).columns\n",
    "\n",
    "print(\"Outliers before capping:\")\n",
    "for col in numeric_cols:\n",
    "    print(f\"{col}: {len(detect_outliers_iqr(df_original, col))}\")\n",
    "    df_capped = cap_outliers_iqr(df_capped, col)\n",
    "\n",
    "print(\"\\nOutliers after capping:\")\n",
    "for col in numeric_cols:\n",
    "    print(f\"{col}: {len(detect_outliers_iqr(df_capped, col))}\")\n",
    "\n"
   ]
  },
  {
   "cell_type": "markdown",
   "id": "77cb3c00-33cf-4300-995b-cfd8c378eeef",
   "metadata": {},
   "source": [
    "### Box Plot visualization before or after outlier dealing"
   ]
  },
  {
   "cell_type": "code",
   "execution_count": 39,
   "id": "1345e453-8940-4ff6-b0a4-fa4d7da54610",
   "metadata": {},
   "outputs": [
    {
     "data": {
      "image/png": "[encoded data removed]",
      "text/plain": [
       "<Figure size 1600x1200 with 8 Axes>"
      ]
     },
     "metadata": {},
     "output_type": "display_data"
    }
   ],
   "source": [
    "# Visualize boxplots before and after capping\n",
    "plt.figure(figsize=(16, 12))\n",
    "for i, col in enumerate(numeric_cols):\n",
    "    plt.subplot(len(numeric_cols), 2, 2*i+1)\n",
    "    sns.boxplot(data=df_original, y=col)\n",
    "    plt.title(f'{col} - Before Capping')\n",
    "\n",
    "    plt.subplot(len(numeric_cols), 2, 2*i+2)\n",
    "    sns.boxplot(data=df_capped, y=col)\n",
    "    plt.title(f'{col} - After Capping')\n",
    "\n",
    "plt.tight_layout()\n",
    "plt.show()\n"
   ]
  },
  {
   "cell_type": "code",
   "execution_count": null,
   "id": "06c171f3-1c0b-4290-9915-1eefad3eb79f",
   "metadata": {},
   "outputs": [],
   "source": []
  },
  {
   "cell_type": "code",
   "execution_count": null,
   "id": "3ee90e10-4805-4dca-851d-f411f31f77e8",
   "metadata": {},
   "outputs": [],
   "source": []
  },
  {
   "cell_type": "markdown",
   "id": "0a5a01d3-3874-4e32-9812-76c065616220",
   "metadata": {},
   "source": [
    "### •\tEncode categorical variables (sex, smoker, region)"
   ]
  },
  {
   "cell_type": "code",
   "execution_count": 41,
   "id": "76327c84-ab09-4517-ac36-01fe291e03da",
   "metadata": {},
   "outputs": [
    {
     "name": "stdout",
     "output_type": "stream",
     "text": [
      "   age     bmi  children      charges  sex_male  smoker_yes  region_northwest  \\\n",
      "0   19  27.900         0  16884.92400     False        True             False   \n",
      "1   18  33.770         1   1725.55230      True       False             False   \n",
      "2   28  33.000         3   4449.46200      True       False             False   \n",
      "3   33  22.705         0  21984.47061      True       False              True   \n",
      "4   32  28.880         0   3866.85520      True       False              True   \n",
      "\n",
      "   region_southeast  region_southwest  \n",
      "0             False              True  \n",
      "1              True             False  \n",
      "2              True             False  \n",
      "3             False             False  \n",
      "4             False             False  \n"
     ]
    }
   ],
   "source": [
    "# One-hot encode the categorical columns\n",
    "categorical_columns = ['sex', 'smoker', 'region']\n",
    "df_encoded = pd.get_dummies(df, columns=categorical_columns, drop_first=True)\n",
    "\n",
    "# Display the first few rows of the encoded DataFrame\n",
    "print(df_encoded.head())"
   ]
  },
  {
   "cell_type": "markdown",
   "id": "c2d50041-7594-426d-a1fe-66937a90fc92",
   "metadata": {},
   "source": [
    "### •\tFeature scaling for numerical values (StandardScaler / MinMaxScaler)"
   ]
  },
  {
   "cell_type": "code",
   "execution_count": 43,
   "id": "602dcee1-daa1-4308-9611-cf40bd33e0b5",
   "metadata": {},
   "outputs": [
    {
     "name": "stdout",
     "output_type": "stream",
     "text": [
      "Standard Scaled Data:\n",
      "        age       bmi  children   charges  sex_male  smoker_yes  \\\n",
      "0 -1.438764 -0.453320 -0.908614  0.298584     False        True   \n",
      "1 -1.509965  0.509621 -0.078767 -0.953689      True       False   \n",
      "2 -0.797954  0.383307  1.580926 -0.728675      True       False   \n",
      "3 -0.441948 -1.305531 -0.908614  0.719843      True       False   \n",
      "4 -0.513149 -0.292556 -0.908614 -0.776802      True       False   \n",
      "\n",
      "   region_northwest  region_southeast  region_southwest  \n",
      "0             False             False              True  \n",
      "1             False              True             False  \n",
      "2             False              True             False  \n",
      "3              True             False             False  \n",
      "4              True             False             False  \n"
     ]
    }
   ],
   "source": [
    "# Make a copy of the dataset\n",
    "df_scaled_std = df_encoded.copy()\n",
    "\n",
    "# Identify numeric columns\n",
    "numeric_columns = ['age', 'bmi', 'children', 'charges']  # adjust if needed\n",
    "\n",
    "# Initialize and apply StandardScaler\n",
    "scaler_std = StandardScaler()\n",
    "df_scaled_std[numeric_columns] = scaler_std.fit_transform(df_scaled_std[numeric_columns])\n",
    "\n",
    "print(\"Standard Scaled Data:\")\n",
    "print(df_scaled_std.head())\n"
   ]
  },
  {
   "cell_type": "markdown",
   "id": "67c30373-6e30-4224-aba8-531d3992d945",
   "metadata": {},
   "source": [
    "### •\tCheck for skewness and treat it if required."
   ]
  },
  {
   "cell_type": "code",
   "execution_count": 45,
   "id": "81c70f1f-27ee-4eb0-a11a-4e394bd0aee3",
   "metadata": {},
   "outputs": [
    {
     "name": "stdout",
     "output_type": "stream",
     "text": [
      "Skewness before treatment:\n",
      " charges     1.514180\n",
      "children    0.937328\n",
      "bmi         0.283729\n",
      "age         0.055610\n",
      "dtype: float64\n",
      "\n",
      "Skewness after treatment:\n",
      " charges    -0.089717\n",
      "children    0.431644\n",
      "dtype: float64\n"
     ]
    }
   ],
   "source": [
    "\n",
    "# Step 1: Select only numeric columns\n",
    "numeric_cols = df_encoded.select_dtypes(include=['int64', 'float64']).columns\n",
    "\n",
    "# Step 2: Calculate skewness\n",
    "skewness_before = df_encoded[numeric_cols].apply(skew).sort_values(ascending=False)\n",
    "print(\"Skewness before treatment:\\n\", skewness_before)\n",
    "\n",
    "# Step 3: Identify skewed columns (threshold |skew| > 0.5)\n",
    "skewed_cols = skewness_before[abs(skewness_before) > 0.5].index.tolist()\n",
    "\n",
    "# Step 4: Treat skewed columns with log1p (if values are non-negative)\n",
    "df_skew_treated = df_encoded.copy()\n",
    "for col in skewed_cols:\n",
    "    min_val = df_skew_treated[col].min()\n",
    "    if min_val <= 0:\n",
    "        shift = abs(min_val) + 1\n",
    "        df_skew_treated[col] = np.log1p(df_skew_treated[col] + shift)\n",
    "    else:\n",
    "        df_skew_treated[col] = np.log1p(df_skew_treated[col])\n",
    "\n",
    "# Step 5: Recalculate skewness after transformation\n",
    "skewness_after = df_skew_treated[skewed_cols].apply(skew)\n",
    "print(\"\\nSkewness after treatment:\\n\", skewness_after)\n"
   ]
  },
  {
   "cell_type": "markdown",
   "id": "49e2c871-defa-46de-a518-21837573de83",
   "metadata": {},
   "source": [
    "## 5. Model Building: Try Multiple Regressors"
   ]
  },
  {
   "cell_type": "markdown",
   "id": "69abc99a-f958-4c96-b84c-c51b1c036b85",
   "metadata": {},
   "source": [
    "### Linear Regression"
   ]
  },
  {
   "cell_type": "code",
   "execution_count": 48,
   "id": "e8547482-bc36-4aad-988b-f30e0945870d",
   "metadata": {},
   "outputs": [
    {
     "name": "stdout",
     "output_type": "stream",
     "text": [
      "Linear Regression Performance Metrics:\n",
      "\n",
      "            MAE       MSE      RMSE  R2 Score  Adjusted R2\n",
      "Train  0.240988  0.144571  0.380224  0.765136     0.763365\n",
      "Test   0.233905  0.126177  0.355214  0.810960     0.805121\n"
     ]
    }
   ],
   "source": [
    "# Use the encoded dataset and fix skewness in target\n",
    "df_fixed = df_encoded.copy()\n",
    "shift_val = abs(df_fixed['charges'].min()) + 1\n",
    "df_fixed['charges'] = np.log1p(df_fixed['charges'] + shift_val)\n",
    "\n",
    "# Split features and target\n",
    "X = df_fixed.drop(columns=['charges'])\n",
    "y = df_fixed['charges']\n",
    "\n",
    "# Train/Test Split\n",
    "X_train, X_test, y_train, y_test = train_test_split(X, y, test_size=0.2, random_state=42)\n",
    "\n",
    "# Train model\n",
    "lr_model = LinearRegression()\n",
    "lr_model.fit(X_train, y_train)\n",
    "\n",
    "# Predictions\n",
    "y_train_pred = lr_model.predict(X_train)\n",
    "y_test_pred = lr_model.predict(X_test)\n",
    "\n",
    "# Function to calculate all metrics including Adjusted R²\n",
    "def calculate_metrics_with_adjusted_r2(X, y_true, y_pred):\n",
    "    n = len(y_true)  # number of observations\n",
    "    p = X.shape[1]   # number of predictors\n",
    "    r2 = r2_score(y_true, y_pred)\n",
    "    adj_r2 = 1 - ((1 - r2) * (n - 1) / (n - p - 1))\n",
    "    return {\n",
    "        \"MAE\": mean_absolute_error(y_true, y_pred),\n",
    "        \"MSE\": mean_squared_error(y_true, y_pred),\n",
    "        \"RMSE\": mean_squared_error(y_true, y_pred, squared=False),\n",
    "        \"R2 Score\": r2,\n",
    "        \"Adjusted R2\": adj_r2\n",
    "    }\n",
    "\n",
    "# Compute metrics\n",
    "train_metrics = calculate_metrics_with_adjusted_r2(X_train, y_train, y_train_pred)\n",
    "test_metrics = calculate_metrics_with_adjusted_r2(X_test, y_test, y_test_pred)\n",
    "\n",
    "# Show as DataFrame\n",
    "performance_df = pd.DataFrame([train_metrics, test_metrics], index=[\"Train\", \"Test\"])\n",
    "print(\"Linear Regression Performance Metrics:\\n\")\n",
    "print(performance_df)\n"
   ]
  },
  {
   "cell_type": "markdown",
   "id": "1e47f5cc-3e8e-4bbb-9d1f-5f5008c11359",
   "metadata": {},
   "source": [
    "### Ridge Regression Model"
   ]
  },
  {
   "cell_type": "code",
   "execution_count": 50,
   "id": "1ba49703-1fb3-41fa-80bb-7eb6b018c1c1",
   "metadata": {},
   "outputs": [
    {
     "name": "stdout",
     "output_type": "stream",
     "text": [
      "Ridge Regression Performance Metrics:\n",
      "\n",
      "            MAE       MSE      RMSE  R2 Score  Adjusted R2\n",
      "Train  0.241372  0.144581  0.380238  0.765119     0.763348\n",
      "Test   0.234619  0.126264  0.355336  0.810830     0.804987\n"
     ]
    }
   ],
   "source": [
    "# Use the encoded and skewness-fixed dataset\n",
    "df_fixed = df_encoded.copy()\n",
    "shift_val = abs(df_fixed['charges'].min()) + 1\n",
    "df_fixed['charges'] = np.log1p(df_fixed['charges'] + shift_val)\n",
    "\n",
    "# Split features and target\n",
    "X = df_fixed.drop(columns=['charges'])\n",
    "y = df_fixed['charges']\n",
    "\n",
    "# Train/Test split\n",
    "X_train, X_test, y_train, y_test = train_test_split(X, y, test_size=0.2, random_state=42)\n",
    "\n",
    "# Train Ridge Regression model\n",
    "ridge_model = Ridge(alpha=1.0)  # you can tune alpha (regularization strength)\n",
    "ridge_model.fit(X_train, y_train)\n",
    "\n",
    "# Predictions\n",
    "y_train_pred = ridge_model.predict(X_train)\n",
    "y_test_pred = ridge_model.predict(X_test)\n",
    "\n",
    "# Function to calculate all performance metrics including Adjusted R²\n",
    "def calculate_metrics_with_adjusted_r2(X, y_true, y_pred):\n",
    "    n = len(y_true)\n",
    "    p = X.shape[1]\n",
    "    r2 = r2_score(y_true, y_pred)\n",
    "    adj_r2 = 1 - ((1 - r2) * (n - 1)) / (n - p - 1)\n",
    "    return {\n",
    "        \"MAE\": mean_absolute_error(y_true, y_pred),\n",
    "        \"MSE\": mean_squared_error(y_true, y_pred),\n",
    "        \"RMSE\": mean_squared_error(y_true, y_pred, squared=False),\n",
    "        \"R2 Score\": r2,\n",
    "        \"Adjusted R2\": adj_r2\n",
    "    }\n",
    "\n",
    "# Calculate metrics\n",
    "ridge_train_metrics = calculate_metrics_with_adjusted_r2(X_train, y_train, y_train_pred)\n",
    "ridge_test_metrics = calculate_metrics_with_adjusted_r2(X_test, y_test, y_test_pred)\n",
    "\n",
    "# Display results\n",
    "ridge_performance_df = pd.DataFrame([ridge_train_metrics, ridge_test_metrics], index=[\"Train\", \"Test\"])\n",
    "print(\"Ridge Regression Performance Metrics:\\n\")\n",
    "print(ridge_performance_df)\n"
   ]
  },
  {
   "cell_type": "markdown",
   "id": "36398561-e624-4a1e-9eef-e34daab94351",
   "metadata": {},
   "source": [
    "### Lasso Regression model"
   ]
  },
  {
   "cell_type": "code",
   "execution_count": 52,
   "id": "b9c9a5a9-643e-447c-be47-2ce901521894",
   "metadata": {},
   "outputs": [
    {
     "name": "stdout",
     "output_type": "stream",
     "text": [
      "Lasso Regression Performance Metrics:\n",
      "\n",
      "            MAE       MSE      RMSE  R2 Score  Adjusted R2\n",
      "Train  0.246565  0.147449  0.383991  0.760460     0.758654\n",
      "Test   0.243898  0.132114  0.363475  0.802065     0.795951\n"
     ]
    }
   ],
   "source": [
    "# Use the encoded and skewness-fixed dataset\n",
    "df_fixed = df_encoded.copy()\n",
    "shift_val = abs(df_fixed['charges'].min()) + 1\n",
    "df_fixed['charges'] = np.log1p(df_fixed['charges'] + shift_val)\n",
    "\n",
    "# Split features and target\n",
    "X = df_fixed.drop(columns=['charges'])\n",
    "y = df_fixed['charges']\n",
    "\n",
    "# Train/Test split\n",
    "X_train, X_test, y_train, y_test = train_test_split(X, y, test_size=0.2, random_state=42)\n",
    "\n",
    "# Train Lasso Regression model\n",
    "lasso_model = Lasso(alpha=0.01)  # you can tune alpha for more/less regularization\n",
    "lasso_model.fit(X_train, y_train)\n",
    "\n",
    "# Predictions\n",
    "y_train_pred = lasso_model.predict(X_train)\n",
    "y_test_pred = lasso_model.predict(X_test)\n",
    "\n",
    "# Function to calculate performance metrics with adjusted R²\n",
    "def calculate_metrics_with_adjusted_r2(X, y_true, y_pred):\n",
    "    n = len(y_true)\n",
    "    p = X.shape[1]\n",
    "    r2 = r2_score(y_true, y_pred)\n",
    "    adj_r2 = 1 - ((1 - r2) * (n - 1)) / (n - p - 1)\n",
    "    return {\n",
    "        \"MAE\": mean_absolute_error(y_true, y_pred),\n",
    "        \"MSE\": mean_squared_error(y_true, y_pred),\n",
    "        \"RMSE\": mean_squared_error(y_true, y_pred, squared=False),\n",
    "        \"R2 Score\": r2,\n",
    "        \"Adjusted R2\": adj_r2\n",
    "    }\n",
    "\n",
    "# Compute metrics\n",
    "lasso_train_metrics = calculate_metrics_with_adjusted_r2(X_train, y_train, y_train_pred)\n",
    "lasso_test_metrics = calculate_metrics_with_adjusted_r2(X_test, y_test, y_test_pred)\n",
    "\n",
    "# Show results\n",
    "lasso_performance_df = pd.DataFrame([lasso_train_metrics, lasso_test_metrics], index=[\"Train\", \"Test\"])\n",
    "print(\"Lasso Regression Performance Metrics:\\n\")\n",
    "print(lasso_performance_df)\n"
   ]
  },
  {
   "cell_type": "markdown",
   "id": "bd6bd22e-e28d-4a87-a01a-20e05e0ceae7",
   "metadata": {},
   "source": [
    "### ElasticNet Regression Model"
   ]
  },
  {
   "cell_type": "code",
   "execution_count": 54,
   "id": "4faaf6cd-06b7-42cf-a7e7-e5c63c04ee87",
   "metadata": {},
   "outputs": [
    {
     "name": "stdout",
     "output_type": "stream",
     "text": [
      "ElasticNet Regression Performance Metrics:\n",
      "\n",
      "            MAE       MSE      RMSE  R2 Score  Adjusted R2\n",
      "Train  0.245799  0.146317  0.382514  0.762299     0.760506\n",
      "Test   0.242530  0.129948  0.360483  0.805310     0.799297\n"
     ]
    }
   ],
   "source": [
    "# Use the encoded and skewness-fixed dataset\n",
    "df_fixed = df_encoded.copy()\n",
    "shift_val = abs(df_fixed['charges'].min()) + 1\n",
    "df_fixed['charges'] = np.log1p(df_fixed['charges'] + shift_val)\n",
    "\n",
    "# Split features and target\n",
    "X = df_fixed.drop(columns=['charges'])\n",
    "y = df_fixed['charges']\n",
    "\n",
    "# Train/Test split\n",
    "X_train, X_test, y_train, y_test = train_test_split(X, y, test_size=0.2, random_state=42)\n",
    "\n",
    "# Train ElasticNet Regression model\n",
    "elastic_model = ElasticNet(alpha=0.01, l1_ratio=0.5)  # alpha = regularization strength, l1_ratio = mix of L1 and L2\n",
    "elastic_model.fit(X_train, y_train)\n",
    "\n",
    "# Predictions\n",
    "y_train_pred = elastic_model.predict(X_train)\n",
    "y_test_pred = elastic_model.predict(X_test)\n",
    "\n",
    "# Function to calculate metrics including Adjusted R²\n",
    "def calculate_metrics_with_adjusted_r2(X, y_true, y_pred):\n",
    "    n = len(y_true)\n",
    "    p = X.shape[1]\n",
    "    r2 = r2_score(y_true, y_pred)\n",
    "    adj_r2 = 1 - ((1 - r2) * (n - 1)) / (n - p - 1)\n",
    "    return {\n",
    "        \"MAE\": mean_absolute_error(y_true, y_pred),\n",
    "        \"MSE\": mean_squared_error(y_true, y_pred),\n",
    "        \"RMSE\": mean_squared_error(y_true, y_pred, squared=False),\n",
    "        \"R2 Score\": r2,\n",
    "        \"Adjusted R2\": adj_r2\n",
    "    }\n",
    "\n",
    "# Calculate metrics\n",
    "elastic_train_metrics = calculate_metrics_with_adjusted_r2(X_train, y_train, y_train_pred)\n",
    "elastic_test_metrics = calculate_metrics_with_adjusted_r2(X_test, y_test, y_test_pred)\n",
    "\n",
    "# Show results\n",
    "elastic_performance_df = pd.DataFrame([elastic_train_metrics, elastic_test_metrics], index=[\"Train\", \"Test\"])\n",
    "print(\"ElasticNet Regression Performance Metrics:\\n\")\n",
    "print(elastic_performance_df)\n"
   ]
  },
  {
   "cell_type": "markdown",
   "id": "9018faeb-7dcc-4056-9e96-42ed2ec29e83",
   "metadata": {},
   "source": [
    "### Random Forest Regression Model"
   ]
  },
  {
   "cell_type": "code",
   "execution_count": 56,
   "id": "41d65023-a837-47b4-a161-9aa541e8f83b",
   "metadata": {},
   "outputs": [
    {
     "name": "stdout",
     "output_type": "stream",
     "text": [
      "Random Forest Regression Performance Metrics:\n",
      "\n",
      "            MAE       MSE      RMSE  R2 Score  Adjusted R2\n",
      "Train  0.073946  0.020183  0.142066  0.967212     0.966965\n",
      "Test   0.172926  0.104029  0.322536  0.844142     0.839328\n"
     ]
    }
   ],
   "source": [
    "# Use the encoded and skewness-fixed dataset\n",
    "df_fixed = df_encoded.copy()\n",
    "shift_val = abs(df_fixed['charges'].min()) + 1\n",
    "df_fixed['charges'] = np.log1p(df_fixed['charges'] + shift_val)\n",
    "\n",
    "# Define features and target\n",
    "X = df_fixed.drop(columns=['charges'])\n",
    "y = df_fixed['charges']\n",
    "\n",
    "# Train-test split\n",
    "X_train, X_test, y_train, y_test = train_test_split(X, y, test_size=0.2, random_state=42)\n",
    "\n",
    "# Train Random Forest model\n",
    "rf_model = RandomForestRegressor(n_estimators=100, random_state=42)\n",
    "rf_model.fit(X_train, y_train)\n",
    "\n",
    "# Make predictions\n",
    "y_train_pred = rf_model.predict(X_train)\n",
    "y_test_pred = rf_model.predict(X_test)\n",
    "\n",
    "# Function to compute performance metrics including Adjusted R²\n",
    "def calculate_metrics_with_adjusted_r2(X, y_true, y_pred):\n",
    "    n = len(y_true)\n",
    "    p = X.shape[1]\n",
    "    r2 = r2_score(y_true, y_pred)\n",
    "    adj_r2 = 1 - ((1 - r2) * (n - 1)) / (n - p - 1)\n",
    "    return {\n",
    "        \"MAE\": mean_absolute_error(y_true, y_pred),\n",
    "        \"MSE\": mean_squared_error(y_true, y_pred),\n",
    "        \"RMSE\": mean_squared_error(y_true, y_pred, squared=False),\n",
    "        \"R2 Score\": r2,\n",
    "        \"Adjusted R2\": adj_r2\n",
    "    }\n",
    "\n",
    "# Evaluate metrics\n",
    "rf_train_metrics = calculate_metrics_with_adjusted_r2(X_train, y_train, y_train_pred)\n",
    "rf_test_metrics = calculate_metrics_with_adjusted_r2(X_test, y_test, y_test_pred)\n",
    "\n",
    "# Display results\n",
    "rf_performance_df = pd.DataFrame([rf_train_metrics, rf_test_metrics], index=[\"Train\", \"Test\"])\n",
    "print(\"Random Forest Regression Performance Metrics:\\n\")\n",
    "print(rf_performance_df)\n"
   ]
  },
  {
   "cell_type": "markdown",
   "id": "cebfd23c-0516-42d5-a45b-1ea26e8e9bba",
   "metadata": {},
   "source": [
    "### Gradient Boosting Regression Model"
   ]
  },
  {
   "cell_type": "code",
   "execution_count": 58,
   "id": "e3f0eee0-4398-484c-af94-89e959c29cd6",
   "metadata": {},
   "outputs": [
    {
     "name": "stdout",
     "output_type": "stream",
     "text": [
      "Gradient Boosting Regression Performance Metrics:\n",
      "\n",
      "            MAE       MSE      RMSE  R2 Score  Adjusted R2\n",
      "Train  0.147892  0.077196  0.277842  0.874590     0.873644\n",
      "Test   0.166958  0.092126  0.303523  0.861975     0.857712\n"
     ]
    }
   ],
   "source": [
    "# Use the encoded and skewness-fixed dataset\n",
    "df_fixed = df_encoded.copy()\n",
    "shift_val = abs(df_fixed['charges'].min()) + 1\n",
    "df_fixed['charges'] = np.log1p(df_fixed['charges'] + shift_val)\n",
    "\n",
    "# Define features and target\n",
    "X = df_fixed.drop(columns=['charges'])\n",
    "y = df_fixed['charges']\n",
    "\n",
    "# Train/test split\n",
    "X_train, X_test, y_train, y_test = train_test_split(X, y, test_size=0.2, random_state=42)\n",
    "\n",
    "# Initialize and train Gradient Boosting model\n",
    "gb_model = GradientBoostingRegressor(n_estimators=100, learning_rate=0.1, max_depth=3, random_state=42)\n",
    "gb_model.fit(X_train, y_train)\n",
    "\n",
    "# Make predictions\n",
    "y_train_pred = gb_model.predict(X_train)\n",
    "y_test_pred = gb_model.predict(X_test)\n",
    "\n",
    "# Function to compute metrics with Adjusted R²\n",
    "def calculate_metrics_with_adjusted_r2(X, y_true, y_pred):\n",
    "    n = len(y_true)\n",
    "    p = X.shape[1]\n",
    "    r2 = r2_score(y_true, y_pred)\n",
    "    adj_r2 = 1 - ((1 - r2) * (n - 1)) / (n - p - 1)\n",
    "    return {\n",
    "        \"MAE\": mean_absolute_error(y_true, y_pred),\n",
    "        \"MSE\": mean_squared_error(y_true, y_pred),\n",
    "        \"RMSE\": mean_squared_error(y_true, y_pred, squared=False),\n",
    "        \"R2 Score\": r2,\n",
    "        \"Adjusted R2\": adj_r2\n",
    "    }\n",
    "\n",
    "# Evaluate performance\n",
    "gb_train_metrics = calculate_metrics_with_adjusted_r2(X_train, y_train, y_train_pred)\n",
    "gb_test_metrics = calculate_metrics_with_adjusted_r2(X_test, y_test, y_test_pred)\n",
    "\n",
    "# Show results\n",
    "gb_performance_df = pd.DataFrame([gb_train_metrics, gb_test_metrics], index=[\"Train\", \"Test\"])\n",
    "print(\"Gradient Boosting Regression Performance Metrics:\\n\")\n",
    "print(gb_performance_df)\n"
   ]
  },
  {
   "cell_type": "markdown",
   "id": "7554e4f3-5ace-4c96-8f43-f880d04caf2f",
   "metadata": {},
   "source": [
    "### SVR Regression Model"
   ]
  },
  {
   "cell_type": "code",
   "execution_count": 60,
   "id": "bb79a267-d743-470f-a331-e82a03e76952",
   "metadata": {},
   "outputs": [
    {
     "name": "stdout",
     "output_type": "stream",
     "text": [
      "Support Vector Regression (SVR) Performance Metrics:\n",
      "\n",
      "            MAE       MSE      RMSE  R2 Score  Adjusted R2\n",
      "Train  0.151762  0.101014  0.317827  0.835897     0.834659\n",
      "Test   0.147876  0.094499  0.307406  0.858421     0.854048\n"
     ]
    }
   ],
   "source": [
    "# Use the encoded dataset and apply skewness fix to charges\n",
    "df_fixed = df_encoded.copy()\n",
    "shift_val = abs(df_fixed['charges'].min()) + 1\n",
    "df_fixed['charges'] = np.log1p(df_fixed['charges'] + shift_val)\n",
    "\n",
    "# Define features and target\n",
    "X = df_fixed.drop(columns=['charges'])\n",
    "y = df_fixed['charges']\n",
    "\n",
    "# Scale features (SVR is sensitive to feature scales)\n",
    "scaler = StandardScaler()\n",
    "X_scaled = scaler.fit_transform(X)\n",
    "\n",
    "# Train-test split\n",
    "X_train, X_test, y_train, y_test = train_test_split(X_scaled, y, test_size=0.2, random_state=42)\n",
    "\n",
    "# Train SVR model (using RBF kernel by default)\n",
    "svr_model = SVR(kernel='rbf', C=1.0, epsilon=0.1)\n",
    "svr_model.fit(X_train, y_train)\n",
    "\n",
    "# Predictions\n",
    "y_train_pred = svr_model.predict(X_train)\n",
    "y_test_pred = svr_model.predict(X_test)\n",
    "\n",
    "# Function to calculate metrics with Adjusted R²\n",
    "def calculate_metrics_with_adjusted_r2(X, y_true, y_pred):\n",
    "    n = len(y_true)\n",
    "    p = X.shape[1]\n",
    "    r2 = r2_score(y_true, y_pred)\n",
    "    adj_r2 = 1 - ((1 - r2) * (n - 1)) / (n - p - 1)\n",
    "    return {\n",
    "        \"MAE\": mean_absolute_error(y_true, y_pred),\n",
    "        \"MSE\": mean_squared_error(y_true, y_pred),\n",
    "        \"RMSE\": mean_squared_error(y_true, y_pred, squared=False),\n",
    "        \"R2 Score\": r2,\n",
    "        \"Adjusted R2\": adj_r2\n",
    "    }\n",
    "\n",
    "# Evaluate performance\n",
    "svr_train_metrics = calculate_metrics_with_adjusted_r2(X_train, y_train, y_train_pred)\n",
    "svr_test_metrics = calculate_metrics_with_adjusted_r2(X_test, y_test, y_test_pred)\n",
    "\n",
    "# Show results\n",
    "svr_performance_df = pd.DataFrame([svr_train_metrics, svr_test_metrics], index=[\"Train\", \"Test\"])\n",
    "print(\"Support Vector Regression (SVR) Performance Metrics:\\n\")\n",
    "print(svr_performance_df)\n"
   ]
  },
  {
   "cell_type": "markdown",
   "id": "a5a4c00a-284c-4ad5-8b4a-8074ee7e5535",
   "metadata": {},
   "source": [
    "### KNN Regression Model"
   ]
  },
  {
   "cell_type": "code",
   "execution_count": 62,
   "id": "fcc02788-ff3f-4940-866d-fcbb0d96c3b4",
   "metadata": {},
   "outputs": [
    {
     "name": "stdout",
     "output_type": "stream",
     "text": [
      "K-Nearest Neighbors (KNN) Regression Performance Metrics:\n",
      "\n",
      "            MAE       MSE      RMSE  R2 Score  Adjusted R2\n",
      "Train  0.184080  0.091172  0.301946  0.851886     0.850769\n",
      "Test   0.235225  0.135574  0.368204  0.796881     0.790608\n"
     ]
    }
   ],
   "source": [
    "# Use the encoded dataset and apply skewness fix to charges\n",
    "df_fixed = df_encoded.copy()\n",
    "shift_val = abs(df_fixed['charges'].min()) + 1\n",
    "df_fixed['charges'] = np.log1p(df_fixed['charges'] + shift_val)\n",
    "\n",
    "# Define features and target\n",
    "X = df_fixed.drop(columns=['charges'])\n",
    "y = df_fixed['charges']\n",
    "\n",
    "# Scale features (important for distance-based models like KNN)\n",
    "scaler = StandardScaler()\n",
    "X_scaled = scaler.fit_transform(X)\n",
    "\n",
    "# Train-test split\n",
    "X_train, X_test, y_train, y_test = train_test_split(X_scaled, y, test_size=0.2, random_state=42)\n",
    "\n",
    "# Train KNN Regressor\n",
    "knn_model = KNeighborsRegressor(n_neighbors=5)  # you can tune n_neighbors\n",
    "knn_model.fit(X_train, y_train)\n",
    "\n",
    "# Predictions\n",
    "y_train_pred = knn_model.predict(X_train)\n",
    "y_test_pred = knn_model.predict(X_test)\n",
    "\n",
    "# Function to calculate metrics with Adjusted R²\n",
    "def calculate_metrics_with_adjusted_r2(X, y_true, y_pred):\n",
    "    n = len(y_true)\n",
    "    p = X.shape[1]\n",
    "    r2 = r2_score(y_true, y_pred)\n",
    "    adj_r2 = 1 - ((1 - r2) * (n - 1)) / (n - p - 1)\n",
    "    return {\n",
    "        \"MAE\": mean_absolute_error(y_true, y_pred),\n",
    "        \"MSE\": mean_squared_error(y_true, y_pred),\n",
    "        \"RMSE\": mean_squared_error(y_true, y_pred, squared=False),\n",
    "        \"R2 Score\": r2,\n",
    "        \"Adjusted R2\": adj_r2\n",
    "    }\n",
    "\n",
    "# Evaluate performance\n",
    "knn_train_metrics = calculate_metrics_with_adjusted_r2(X_train, y_train, y_train_pred)\n",
    "knn_test_metrics = calculate_metrics_with_adjusted_r2(X_test, y_test, y_test_pred)\n",
    "\n",
    "# Display results\n",
    "knn_performance_df = pd.DataFrame([knn_train_metrics, knn_test_metrics], index=[\"Train\", \"Test\"])\n",
    "print(\"K-Nearest Neighbors (KNN) Regression Performance Metrics:\\n\")\n",
    "print(knn_performance_df)\n"
   ]
  },
  {
   "cell_type": "markdown",
   "id": "ee1cc8d0-8999-4b16-8f6e-a7c88475d9a8",
   "metadata": {},
   "source": [
    "### Decision Tree Regressor"
   ]
  },
  {
   "cell_type": "code",
   "execution_count": 64,
   "id": "4d8c3830-e276-42ff-b2a1-b525341b4914",
   "metadata": {},
   "outputs": [
    {
     "name": "stdout",
     "output_type": "stream",
     "text": [
      "Decision Tree Regression Performance Metrics:\n",
      "\n",
      "            MAE       MSE      RMSE  R2 Score  Adjusted R2\n",
      "Train  0.003384  0.003073  0.055437  0.995007     0.994970\n",
      "Test   0.220475  0.218482  0.467421  0.672667     0.662557\n"
     ]
    }
   ],
   "source": [
    "# Use the encoded dataset and apply skewness fix to charges\n",
    "df_fixed = df_encoded.copy()\n",
    "shift_val = abs(df_fixed['charges'].min()) + 1\n",
    "df_fixed['charges'] = np.log1p(df_fixed['charges'] + shift_val)\n",
    "\n",
    "# Define features and target\n",
    "X = df_fixed.drop(columns=['charges'])\n",
    "y = df_fixed['charges']\n",
    "\n",
    "# Train-test split\n",
    "X_train, X_test, y_train, y_test = train_test_split(X, y, test_size=0.2, random_state=42)\n",
    "\n",
    "# Train Decision Tree Regressor\n",
    "dt_model = DecisionTreeRegressor(random_state=42)\n",
    "dt_model.fit(X_train, y_train)\n",
    "\n",
    "# Predictions\n",
    "y_train_pred = dt_model.predict(X_train)\n",
    "y_test_pred = dt_model.predict(X_test)\n",
    "\n",
    "# Function to calculate performance metrics including Adjusted R²\n",
    "def calculate_metrics_with_adjusted_r2(X, y_true, y_pred):\n",
    "    n = len(y_true)\n",
    "    p = X.shape[1]\n",
    "    r2 = r2_score(y_true, y_pred)\n",
    "    adj_r2 = 1 - ((1 - r2) * (n - 1)) / (n - p - 1)\n",
    "    return {\n",
    "        \"MAE\": mean_absolute_error(y_true, y_pred),\n",
    "        \"MSE\": mean_squared_error(y_true, y_pred),\n",
    "        \"RMSE\": mean_squared_error(y_true, y_pred, squared=False),\n",
    "        \"R2 Score\": r2,\n",
    "        \"Adjusted R2\": adj_r2\n",
    "    }\n",
    "\n",
    "# Evaluate performance\n",
    "dt_train_metrics = calculate_metrics_with_adjusted_r2(X_train, y_train, y_train_pred)\n",
    "dt_test_metrics = calculate_metrics_with_adjusted_r2(X_test, y_test, y_test_pred)\n",
    "\n",
    "# Display results\n",
    "dt_performance_df = pd.DataFrame([dt_train_metrics, dt_test_metrics], index=[\"Train\", \"Test\"])\n",
    "print(\"Decision Tree Regression Performance Metrics:\\n\")\n",
    "print(dt_performance_df)\n"
   ]
  },
  {
   "cell_type": "markdown",
   "id": "1d5c63ff-6f51-4667-a883-8b1537a4dcaf",
   "metadata": {},
   "source": [
    "### •\tEnsemble Learning methods"
   ]
  },
  {
   "cell_type": "code",
   "execution_count": 66,
   "id": "4ef6d956-65b7-4f16-af61-18efff6a42e4",
   "metadata": {},
   "outputs": [
    {
     "name": "stdout",
     "output_type": "stream",
     "text": [
      "Ensemble Learning Model Performance:\n",
      "\n",
      "                       MAE       MSE      RMSE  R2 Score  Adjusted R2\n",
      "RandomForest      0.172926  0.104029  0.322536  0.844142     0.839328\n",
      "GradientBoosting  0.166958  0.092126  0.303523  0.861975     0.857712\n",
      "AdaBoost          0.377872  0.216989  0.465821  0.674904     0.664863\n",
      "VotingRegressor   0.178139  0.093250  0.305368  0.860292     0.855977\n"
     ]
    }
   ],
   "source": [
    "\"\"\"import pandas as pd\n",
    "import numpy as np\n",
    "from sklearn.ensemble import RandomForestRegressor, GradientBoostingRegressor, AdaBoostRegressor, VotingRegressor\n",
    "from sklearn.tree import DecisionTreeRegressor\n",
    "from sklearn.linear_model import LinearRegression\n",
    "from sklearn.model_selection import train_test_split\n",
    "from sklearn.metrics import mean_absolute_error, mean_squared_error, r2_score\n",
    "\"\"\"\n",
    "# Prepare skewness-fixed target data\n",
    "df_fixed = df_encoded.copy()\n",
    "shift_val = abs(df_fixed['charges'].min()) + 1\n",
    "df_fixed['charges'] = np.log1p(df_fixed['charges'] + shift_val)\n",
    "\n",
    "# Features and target\n",
    "X = df_fixed.drop(columns=['charges'])\n",
    "y = df_fixed['charges']\n",
    "\n",
    "# Train/test split\n",
    "X_train, X_test, y_train, y_test = train_test_split(X, y, test_size=0.2, random_state=42)\n",
    "\n",
    "# Define models\n",
    "models = {\n",
    "    \"RandomForest\": RandomForestRegressor(n_estimators=100, random_state=42),\n",
    "    \"GradientBoosting\": GradientBoostingRegressor(n_estimators=100, learning_rate=0.1, max_depth=3, random_state=42),\n",
    "    \"AdaBoost\": AdaBoostRegressor(n_estimators=100, random_state=42),\n",
    "    \"VotingRegressor\": VotingRegressor([\n",
    "        ('lr', LinearRegression()),\n",
    "        ('rf', RandomForestRegressor(n_estimators=100, random_state=42)),\n",
    "        ('gbr', GradientBoostingRegressor(n_estimators=100, random_state=42))\n",
    "    ])\n",
    "}\n",
    "\n",
    "# Performance metric function\n",
    "def calculate_metrics_with_adjusted_r2(X, y_true, y_pred):\n",
    "    n = len(y_true)\n",
    "    p = X.shape[1]\n",
    "    r2 = r2_score(y_true, y_pred)\n",
    "    adj_r2 = 1 - ((1 - r2) * (n - 1)) / (n - p - 1)\n",
    "    return {\n",
    "        \"MAE\": mean_absolute_error(y_true, y_pred),\n",
    "        \"MSE\": mean_squared_error(y_true, y_pred),\n",
    "        \"RMSE\": mean_squared_error(y_true, y_pred, squared=False),\n",
    "        \"R2 Score\": r2,\n",
    "        \"Adjusted R2\": adj_r2\n",
    "    }\n",
    "\n",
    "# Train and evaluate all models\n",
    "results = {}\n",
    "for name, model in models.items():\n",
    "    model.fit(X_train, y_train)\n",
    "    y_test_pred = model.predict(X_test)\n",
    "    results[name] = calculate_metrics_with_adjusted_r2(X_test, y_test, y_test_pred)\n",
    "\n",
    "# Create results DataFrame\n",
    "ensemble_results_df = pd.DataFrame(results).T\n",
    "print(\"Ensemble Learning Model Performance:\\n\")\n",
    "print(ensemble_results_df)\n"
   ]
  },
  {
   "cell_type": "markdown",
   "id": "35988abf-cb65-4233-9adb-7ae4e43f7805",
   "metadata": {},
   "source": [
    "### 6. Model Evaluation & Overfitting Check"
   ]
  },
  {
   "cell_type": "code",
   "execution_count": 68,
   "id": "7e48f730-4821-4f16-b8b4-d0a6c3abc6a4",
   "metadata": {},
   "outputs": [
    {
     "data": {
      "text/html": [
       "<div>\n",
       "<style scoped>\n",
       "    .dataframe tbody tr th:only-of-type {\n",
       "        vertical-align: middle;\n",
       "    }\n",
       "\n",
       "    .dataframe tbody tr th {\n",
       "        vertical-align: top;\n",
       "    }\n",
       "\n",
       "    .dataframe thead th {\n",
       "        text-align: right;\n",
       "    }\n",
       "</style>\n",
       "<table border=\"1\" class=\"dataframe\">\n",
       "  <thead>\n",
       "    <tr style=\"text-align: right;\">\n",
       "      <th></th>\n",
       "      <th>Train_MAE</th>\n",
       "      <th>Train_MSE</th>\n",
       "      <th>Train_RMSE</th>\n",
       "      <th>Train_R2 Score</th>\n",
       "      <th>Train_Adjusted R2</th>\n",
       "      <th>Test_MAE</th>\n",
       "      <th>Test_MSE</th>\n",
       "      <th>Test_RMSE</th>\n",
       "      <th>Test_R2 Score</th>\n",
       "      <th>Test_Adjusted R2</th>\n",
       "    </tr>\n",
       "  </thead>\n",
       "  <tbody>\n",
       "    <tr>\n",
       "      <th>LinearRegression</th>\n",
       "      <td>0.240988</td>\n",
       "      <td>0.144571</td>\n",
       "      <td>0.380224</td>\n",
       "      <td>0.765136</td>\n",
       "      <td>0.763365</td>\n",
       "      <td>0.233905</td>\n",
       "      <td>0.126177</td>\n",
       "      <td>0.355214</td>\n",
       "      <td>0.810960</td>\n",
       "      <td>0.805121</td>\n",
       "    </tr>\n",
       "    <tr>\n",
       "      <th>Ridge</th>\n",
       "      <td>0.241372</td>\n",
       "      <td>0.144581</td>\n",
       "      <td>0.380238</td>\n",
       "      <td>0.765119</td>\n",
       "      <td>0.763348</td>\n",
       "      <td>0.234619</td>\n",
       "      <td>0.126264</td>\n",
       "      <td>0.355336</td>\n",
       "      <td>0.810830</td>\n",
       "      <td>0.804987</td>\n",
       "    </tr>\n",
       "    <tr>\n",
       "      <th>Lasso</th>\n",
       "      <td>0.246565</td>\n",
       "      <td>0.147449</td>\n",
       "      <td>0.383991</td>\n",
       "      <td>0.760460</td>\n",
       "      <td>0.758654</td>\n",
       "      <td>0.243898</td>\n",
       "      <td>0.132114</td>\n",
       "      <td>0.363475</td>\n",
       "      <td>0.802065</td>\n",
       "      <td>0.795951</td>\n",
       "    </tr>\n",
       "    <tr>\n",
       "      <th>ElasticNet</th>\n",
       "      <td>0.245799</td>\n",
       "      <td>0.146317</td>\n",
       "      <td>0.382514</td>\n",
       "      <td>0.762299</td>\n",
       "      <td>0.760506</td>\n",
       "      <td>0.242530</td>\n",
       "      <td>0.129948</td>\n",
       "      <td>0.360483</td>\n",
       "      <td>0.805310</td>\n",
       "      <td>0.799297</td>\n",
       "    </tr>\n",
       "    <tr>\n",
       "      <th>DecisionTree</th>\n",
       "      <td>0.003384</td>\n",
       "      <td>0.003073</td>\n",
       "      <td>0.055437</td>\n",
       "      <td>0.995007</td>\n",
       "      <td>0.994970</td>\n",
       "      <td>0.220475</td>\n",
       "      <td>0.218482</td>\n",
       "      <td>0.467421</td>\n",
       "      <td>0.672667</td>\n",
       "      <td>0.662557</td>\n",
       "    </tr>\n",
       "    <tr>\n",
       "      <th>RandomForest</th>\n",
       "      <td>0.073946</td>\n",
       "      <td>0.020183</td>\n",
       "      <td>0.142066</td>\n",
       "      <td>0.967212</td>\n",
       "      <td>0.966965</td>\n",
       "      <td>0.172926</td>\n",
       "      <td>0.104029</td>\n",
       "      <td>0.322536</td>\n",
       "      <td>0.844142</td>\n",
       "      <td>0.839328</td>\n",
       "    </tr>\n",
       "    <tr>\n",
       "      <th>GradientBoosting</th>\n",
       "      <td>0.147892</td>\n",
       "      <td>0.077196</td>\n",
       "      <td>0.277842</td>\n",
       "      <td>0.874590</td>\n",
       "      <td>0.873644</td>\n",
       "      <td>0.166958</td>\n",
       "      <td>0.092126</td>\n",
       "      <td>0.303523</td>\n",
       "      <td>0.861975</td>\n",
       "      <td>0.857712</td>\n",
       "    </tr>\n",
       "    <tr>\n",
       "      <th>AdaBoost</th>\n",
       "      <td>0.348406</td>\n",
       "      <td>0.184014</td>\n",
       "      <td>0.428968</td>\n",
       "      <td>0.701058</td>\n",
       "      <td>0.698804</td>\n",
       "      <td>0.377872</td>\n",
       "      <td>0.216989</td>\n",
       "      <td>0.465821</td>\n",
       "      <td>0.674904</td>\n",
       "      <td>0.664863</td>\n",
       "    </tr>\n",
       "    <tr>\n",
       "      <th>Voting</th>\n",
       "      <td>0.145907</td>\n",
       "      <td>0.062467</td>\n",
       "      <td>0.249934</td>\n",
       "      <td>0.898519</td>\n",
       "      <td>0.897754</td>\n",
       "      <td>0.178139</td>\n",
       "      <td>0.093250</td>\n",
       "      <td>0.305368</td>\n",
       "      <td>0.860292</td>\n",
       "      <td>0.855977</td>\n",
       "    </tr>\n",
       "    <tr>\n",
       "      <th>SVR</th>\n",
       "      <td>0.151715</td>\n",
       "      <td>0.101046</td>\n",
       "      <td>0.317877</td>\n",
       "      <td>0.835845</td>\n",
       "      <td>0.834607</td>\n",
       "      <td>0.147775</td>\n",
       "      <td>0.094528</td>\n",
       "      <td>0.307453</td>\n",
       "      <td>0.858378</td>\n",
       "      <td>0.854003</td>\n",
       "    </tr>\n",
       "    <tr>\n",
       "      <th>KNN</th>\n",
       "      <td>0.184007</td>\n",
       "      <td>0.090950</td>\n",
       "      <td>0.301579</td>\n",
       "      <td>0.852246</td>\n",
       "      <td>0.851132</td>\n",
       "      <td>0.234252</td>\n",
       "      <td>0.135361</td>\n",
       "      <td>0.367915</td>\n",
       "      <td>0.797200</td>\n",
       "      <td>0.790936</td>\n",
       "    </tr>\n",
       "  </tbody>\n",
       "</table>\n",
       "</div>"
      ],
      "text/plain": [
       "                  Train_MAE  Train_MSE  Train_RMSE  Train_R2 Score  \\\n",
       "LinearRegression   0.240988   0.144571    0.380224        0.765136   \n",
       "Ridge              0.241372   0.144581    0.380238        0.765119   \n",
       "Lasso              0.246565   0.147449    0.383991        0.760460   \n",
       "ElasticNet         0.245799   0.146317    0.382514        0.762299   \n",
       "DecisionTree       0.003384   0.003073    0.055437        0.995007   \n",
       "RandomForest       0.073946   0.020183    0.142066        0.967212   \n",
       "GradientBoosting   0.147892   0.077196    0.277842        0.874590   \n",
       "AdaBoost           0.348406   0.184014    0.428968        0.701058   \n",
       "Voting             0.145907   0.062467    0.249934        0.898519   \n",
       "SVR                0.151715   0.101046    0.317877        0.835845   \n",
       "KNN                0.184007   0.090950    0.301579        0.852246   \n",
       "\n",
       "                  Train_Adjusted R2  Test_MAE  Test_MSE  Test_RMSE  \\\n",
       "LinearRegression           0.763365  0.233905  0.126177   0.355214   \n",
       "Ridge                      0.763348  0.234619  0.126264   0.355336   \n",
       "Lasso                      0.758654  0.243898  0.132114   0.363475   \n",
       "ElasticNet                 0.760506  0.242530  0.129948   0.360483   \n",
       "DecisionTree               0.994970  0.220475  0.218482   0.467421   \n",
       "RandomForest               0.966965  0.172926  0.104029   0.322536   \n",
       "GradientBoosting           0.873644  0.166958  0.092126   0.303523   \n",
       "AdaBoost                   0.698804  0.377872  0.216989   0.465821   \n",
       "Voting                     0.897754  0.178139  0.093250   0.305368   \n",
       "SVR                        0.834607  0.147775  0.094528   0.307453   \n",
       "KNN                        0.851132  0.234252  0.135361   0.367915   \n",
       "\n",
       "                  Test_R2 Score  Test_Adjusted R2  \n",
       "LinearRegression       0.810960          0.805121  \n",
       "Ridge                  0.810830          0.804987  \n",
       "Lasso                  0.802065          0.795951  \n",
       "ElasticNet             0.805310          0.799297  \n",
       "DecisionTree           0.672667          0.662557  \n",
       "RandomForest           0.844142          0.839328  \n",
       "GradientBoosting       0.861975          0.857712  \n",
       "AdaBoost               0.674904          0.664863  \n",
       "Voting                 0.860292          0.855977  \n",
       "SVR                    0.858378          0.854003  \n",
       "KNN                    0.797200          0.790936  "
      ]
     },
     "metadata": {},
     "output_type": "display_data"
    }
   ],
   "source": [
    "# Step 1 Prepare dataset\n",
    "df_fixed = df_encoded.copy()\n",
    "shift_val = abs(df_fixed['charges'].min()) + 1\n",
    "df_fixed['charges'] = np.log1p(df_fixed['charges'] + shift_val)\n",
    "\n",
    "X = df_fixed.drop(columns=['charges'])\n",
    "y = df_fixed['charges']\n",
    "\n",
    "# Step 2: Train-test split\n",
    "X_train, X_test, y_train, y_test = train_test_split(X, y, test_size=0.2, random_state=42)\n",
    "\n",
    "# Step 3: Scale for models that require it\n",
    "scaler = StandardScaler()\n",
    "X_train_scaled = scaler.fit_transform(X_train)\n",
    "X_test_scaled = scaler.transform(X_test)\n",
    "\n",
    "# Step 4: Define models\n",
    "models = {\n",
    "    \"LinearRegression\": LinearRegression(),\n",
    "    \"Ridge\": Ridge(),\n",
    "    \"Lasso\": Lasso(alpha=0.01),\n",
    "    \"ElasticNet\": ElasticNet(alpha=0.01, l1_ratio=0.5),\n",
    "    \"DecisionTree\": DecisionTreeRegressor(random_state=42),\n",
    "    \"RandomForest\": RandomForestRegressor(n_estimators=100, random_state=42),\n",
    "    \"GradientBoosting\": GradientBoostingRegressor(n_estimators=100, random_state=42),\n",
    "    \"AdaBoost\": AdaBoostRegressor(n_estimators=100, random_state=42),\n",
    "    \"Voting\": VotingRegressor([\n",
    "        ('lr', LinearRegression()),\n",
    "        ('rf', RandomForestRegressor(n_estimators=100, random_state=42)),\n",
    "        ('gbr', GradientBoostingRegressor(n_estimators=100, random_state=42))\n",
    "    ]),\n",
    "    \"SVR\": SVR(),\n",
    "    \"KNN\": KNeighborsRegressor()\n",
    "}\n",
    "\n",
    "# Step 5: Evaluation function\n",
    "def calculate_metrics(X, y_true, y_pred):\n",
    "    n = len(y_true)\n",
    "    p = X.shape[1]\n",
    "    r2 = r2_score(y_true, y_pred)\n",
    "    adj_r2 = 1 - ((1 - r2) * (n - 1)) / (n - p - 1)\n",
    "    return {\n",
    "        \"MAE\": mean_absolute_error(y_true, y_pred),\n",
    "        \"MSE\": mean_squared_error(y_true, y_pred),\n",
    "        \"RMSE\": mean_squared_error(y_true, y_pred, squared=False),\n",
    "        \"R2 Score\": r2,\n",
    "        \"Adjusted R2\": adj_r2\n",
    "    }\n",
    "\n",
    "# Step 6: Train, predict, and evaluate all models\n",
    "results = {}\n",
    "for name, model in models.items():\n",
    "    if name in ['SVR', 'KNN']:\n",
    "        model.fit(X_train_scaled, y_train)\n",
    "        train_pred = model.predict(X_train_scaled)\n",
    "        test_pred = model.predict(X_test_scaled)\n",
    "    else:\n",
    "        model.fit(X_train, y_train)\n",
    "        train_pred = model.predict(X_train)\n",
    "        test_pred = model.predict(X_test)\n",
    "        \n",
    "    train_metrics = calculate_metrics(X_train, y_train, train_pred)\n",
    "    test_metrics = calculate_metrics(X_test, y_test, test_pred)\n",
    "    \n",
    "    # Combine metrics\n",
    "    results[name] = {f\"Train_{k}\": v for k, v in train_metrics.items()}\n",
    "    results[name].update({f\"Test_{k}\": v for k, v in test_metrics.items()})\n",
    "\n",
    "# Step 7: Display results\n",
    "evaluation_df = pd.DataFrame(results).T\n",
    "\n",
    "\"\"\" print(\"\\nModel Evaluation Metrics (Train vs Test):\")\n",
    "print(evaluation_df)\"\"\"\n",
    "\n",
    "# Step 7: Show results\n",
    "from IPython.display import display\n",
    "display(evaluation_df)"
   ]
  },
  {
   "cell_type": "markdown",
   "id": "00f15d6d-c760-443f-9145-75f1f0d67d2b",
   "metadata": {},
   "source": [
    "### 6. Model Evaluation & Overfitting Check with status overfit or underfit"
   ]
  },
  {
   "cell_type": "code",
   "execution_count": 70,
   "id": "9fb881d5-e658-4193-874d-062e208fa944",
   "metadata": {},
   "outputs": [
    {
     "data": {
      "text/html": [
       "<div>\n",
       "<style scoped>\n",
       "    .dataframe tbody tr th:only-of-type {\n",
       "        vertical-align: middle;\n",
       "    }\n",
       "\n",
       "    .dataframe tbody tr th {\n",
       "        vertical-align: top;\n",
       "    }\n",
       "\n",
       "    .dataframe thead th {\n",
       "        text-align: right;\n",
       "    }\n",
       "</style>\n",
       "<table border=\"1\" class=\"dataframe\">\n",
       "  <thead>\n",
       "    <tr style=\"text-align: right;\">\n",
       "      <th></th>\n",
       "      <th>Train_MAE</th>\n",
       "      <th>Train_MSE</th>\n",
       "      <th>Train_RMSE</th>\n",
       "      <th>Train_R2 Score</th>\n",
       "      <th>Train_Adjusted R2</th>\n",
       "      <th>Test_MAE</th>\n",
       "      <th>Test_MSE</th>\n",
       "      <th>Test_RMSE</th>\n",
       "      <th>Test_R2 Score</th>\n",
       "      <th>Test_Adjusted R2</th>\n",
       "      <th>Fit_Status</th>\n",
       "    </tr>\n",
       "  </thead>\n",
       "  <tbody>\n",
       "    <tr>\n",
       "      <th>LinearRegression</th>\n",
       "      <td>0.240988</td>\n",
       "      <td>0.144571</td>\n",
       "      <td>0.380224</td>\n",
       "      <td>0.765136</td>\n",
       "      <td>0.763365</td>\n",
       "      <td>0.233905</td>\n",
       "      <td>0.126177</td>\n",
       "      <td>0.355214</td>\n",
       "      <td>0.81096</td>\n",
       "      <td>0.805121</td>\n",
       "      <td>Balanced</td>\n",
       "    </tr>\n",
       "    <tr>\n",
       "      <th>Ridge</th>\n",
       "      <td>0.241372</td>\n",
       "      <td>0.144581</td>\n",
       "      <td>0.380238</td>\n",
       "      <td>0.765119</td>\n",
       "      <td>0.763348</td>\n",
       "      <td>0.234619</td>\n",
       "      <td>0.126264</td>\n",
       "      <td>0.355336</td>\n",
       "      <td>0.81083</td>\n",
       "      <td>0.804987</td>\n",
       "      <td>Balanced</td>\n",
       "    </tr>\n",
       "    <tr>\n",
       "      <th>Lasso</th>\n",
       "      <td>0.246565</td>\n",
       "      <td>0.147449</td>\n",
       "      <td>0.383991</td>\n",
       "      <td>0.76046</td>\n",
       "      <td>0.758654</td>\n",
       "      <td>0.243898</td>\n",
       "      <td>0.132114</td>\n",
       "      <td>0.363475</td>\n",
       "      <td>0.802065</td>\n",
       "      <td>0.795951</td>\n",
       "      <td>Balanced</td>\n",
       "    </tr>\n",
       "    <tr>\n",
       "      <th>ElasticNet</th>\n",
       "      <td>0.245799</td>\n",
       "      <td>0.146317</td>\n",
       "      <td>0.382514</td>\n",
       "      <td>0.762299</td>\n",
       "      <td>0.760506</td>\n",
       "      <td>0.24253</td>\n",
       "      <td>0.129948</td>\n",
       "      <td>0.360483</td>\n",
       "      <td>0.80531</td>\n",
       "      <td>0.799297</td>\n",
       "      <td>Balanced</td>\n",
       "    </tr>\n",
       "    <tr>\n",
       "      <th>DecisionTree</th>\n",
       "      <td>0.003384</td>\n",
       "      <td>0.003073</td>\n",
       "      <td>0.055437</td>\n",
       "      <td>0.995007</td>\n",
       "      <td>0.99497</td>\n",
       "      <td>0.220475</td>\n",
       "      <td>0.218482</td>\n",
       "      <td>0.467421</td>\n",
       "      <td>0.672667</td>\n",
       "      <td>0.662557</td>\n",
       "      <td>Overfitting</td>\n",
       "    </tr>\n",
       "    <tr>\n",
       "      <th>RandomForest</th>\n",
       "      <td>0.073946</td>\n",
       "      <td>0.020183</td>\n",
       "      <td>0.142066</td>\n",
       "      <td>0.967212</td>\n",
       "      <td>0.966965</td>\n",
       "      <td>0.172926</td>\n",
       "      <td>0.104029</td>\n",
       "      <td>0.322536</td>\n",
       "      <td>0.844142</td>\n",
       "      <td>0.839328</td>\n",
       "      <td>Overfitting</td>\n",
       "    </tr>\n",
       "    <tr>\n",
       "      <th>GradientBoosting</th>\n",
       "      <td>0.147892</td>\n",
       "      <td>0.077196</td>\n",
       "      <td>0.277842</td>\n",
       "      <td>0.87459</td>\n",
       "      <td>0.873644</td>\n",
       "      <td>0.166958</td>\n",
       "      <td>0.092126</td>\n",
       "      <td>0.303523</td>\n",
       "      <td>0.861975</td>\n",
       "      <td>0.857712</td>\n",
       "      <td>Balanced</td>\n",
       "    </tr>\n",
       "    <tr>\n",
       "      <th>AdaBoost</th>\n",
       "      <td>0.348406</td>\n",
       "      <td>0.184014</td>\n",
       "      <td>0.428968</td>\n",
       "      <td>0.701058</td>\n",
       "      <td>0.698804</td>\n",
       "      <td>0.377872</td>\n",
       "      <td>0.216989</td>\n",
       "      <td>0.465821</td>\n",
       "      <td>0.674904</td>\n",
       "      <td>0.664863</td>\n",
       "      <td>Balanced</td>\n",
       "    </tr>\n",
       "    <tr>\n",
       "      <th>Voting</th>\n",
       "      <td>0.145907</td>\n",
       "      <td>0.062467</td>\n",
       "      <td>0.249934</td>\n",
       "      <td>0.898519</td>\n",
       "      <td>0.897754</td>\n",
       "      <td>0.178139</td>\n",
       "      <td>0.09325</td>\n",
       "      <td>0.305368</td>\n",
       "      <td>0.860292</td>\n",
       "      <td>0.855977</td>\n",
       "      <td>Balanced</td>\n",
       "    </tr>\n",
       "    <tr>\n",
       "      <th>SVR</th>\n",
       "      <td>0.151715</td>\n",
       "      <td>0.101046</td>\n",
       "      <td>0.317877</td>\n",
       "      <td>0.835845</td>\n",
       "      <td>0.834607</td>\n",
       "      <td>0.147775</td>\n",
       "      <td>0.094528</td>\n",
       "      <td>0.307453</td>\n",
       "      <td>0.858378</td>\n",
       "      <td>0.854003</td>\n",
       "      <td>Balanced</td>\n",
       "    </tr>\n",
       "    <tr>\n",
       "      <th>KNN</th>\n",
       "      <td>0.184007</td>\n",
       "      <td>0.09095</td>\n",
       "      <td>0.301579</td>\n",
       "      <td>0.852246</td>\n",
       "      <td>0.851132</td>\n",
       "      <td>0.234252</td>\n",
       "      <td>0.135361</td>\n",
       "      <td>0.367915</td>\n",
       "      <td>0.7972</td>\n",
       "      <td>0.790936</td>\n",
       "      <td>Balanced</td>\n",
       "    </tr>\n",
       "  </tbody>\n",
       "</table>\n",
       "</div>"
      ],
      "text/plain": [
       "                 Train_MAE Train_MSE Train_RMSE Train_R2 Score  \\\n",
       "LinearRegression  0.240988  0.144571   0.380224       0.765136   \n",
       "Ridge             0.241372  0.144581   0.380238       0.765119   \n",
       "Lasso             0.246565  0.147449   0.383991        0.76046   \n",
       "ElasticNet        0.245799  0.146317   0.382514       0.762299   \n",
       "DecisionTree      0.003384  0.003073   0.055437       0.995007   \n",
       "RandomForest      0.073946  0.020183   0.142066       0.967212   \n",
       "GradientBoosting  0.147892  0.077196   0.277842        0.87459   \n",
       "AdaBoost          0.348406  0.184014   0.428968       0.701058   \n",
       "Voting            0.145907  0.062467   0.249934       0.898519   \n",
       "SVR               0.151715  0.101046   0.317877       0.835845   \n",
       "KNN               0.184007   0.09095   0.301579       0.852246   \n",
       "\n",
       "                 Train_Adjusted R2  Test_MAE  Test_MSE Test_RMSE  \\\n",
       "LinearRegression          0.763365  0.233905  0.126177  0.355214   \n",
       "Ridge                     0.763348  0.234619  0.126264  0.355336   \n",
       "Lasso                     0.758654  0.243898  0.132114  0.363475   \n",
       "ElasticNet                0.760506   0.24253  0.129948  0.360483   \n",
       "DecisionTree               0.99497  0.220475  0.218482  0.467421   \n",
       "RandomForest              0.966965  0.172926  0.104029  0.322536   \n",
       "GradientBoosting          0.873644  0.166958  0.092126  0.303523   \n",
       "AdaBoost                  0.698804  0.377872  0.216989  0.465821   \n",
       "Voting                    0.897754  0.178139   0.09325  0.305368   \n",
       "SVR                       0.834607  0.147775  0.094528  0.307453   \n",
       "KNN                       0.851132  0.234252  0.135361  0.367915   \n",
       "\n",
       "                 Test_R2 Score Test_Adjusted R2   Fit_Status  \n",
       "LinearRegression       0.81096         0.805121     Balanced  \n",
       "Ridge                  0.81083         0.804987     Balanced  \n",
       "Lasso                 0.802065         0.795951     Balanced  \n",
       "ElasticNet             0.80531         0.799297     Balanced  \n",
       "DecisionTree          0.672667         0.662557  Overfitting  \n",
       "RandomForest          0.844142         0.839328  Overfitting  \n",
       "GradientBoosting      0.861975         0.857712     Balanced  \n",
       "AdaBoost              0.674904         0.664863     Balanced  \n",
       "Voting                0.860292         0.855977     Balanced  \n",
       "SVR                   0.858378         0.854003     Balanced  \n",
       "KNN                     0.7972         0.790936     Balanced  "
      ]
     },
     "metadata": {},
     "output_type": "display_data"
    }
   ],
   "source": [
    "# Step 1: Prepare dataset\n",
    "df_fixed = df_encoded.copy()\n",
    "shift_val = abs(df_fixed['charges'].min()) + 1\n",
    "df_fixed['charges'] = np.log1p(df_fixed['charges'] + shift_val)\n",
    "\n",
    "X = df_fixed.drop(columns=['charges'])\n",
    "y = df_fixed['charges']\n",
    "\n",
    "# Step 2: Train-test split\n",
    "X_train, X_test, y_train, y_test = train_test_split(X, y, test_size=0.2, random_state=42)\n",
    "\n",
    "# Step 3: Scale for models that require it\n",
    "scaler = StandardScaler()\n",
    "X_train_scaled = scaler.fit_transform(X_train)\n",
    "X_test_scaled = scaler.transform(X_test)\n",
    "\n",
    "# Step 4: Define models\n",
    "models = {\n",
    "    \"LinearRegression\": LinearRegression(),\n",
    "    \"Ridge\": Ridge(),\n",
    "    \"Lasso\": Lasso(alpha=0.01),\n",
    "    \"ElasticNet\": ElasticNet(alpha=0.01, l1_ratio=0.5),\n",
    "    \"DecisionTree\": DecisionTreeRegressor(random_state=42),\n",
    "    \"RandomForest\": RandomForestRegressor(n_estimators=100, random_state=42),\n",
    "    \"GradientBoosting\": GradientBoostingRegressor(n_estimators=100, random_state=42),\n",
    "    \"AdaBoost\": AdaBoostRegressor(n_estimators=100, random_state=42),\n",
    "    \"Voting\": VotingRegressor([\n",
    "        ('lr', LinearRegression()),\n",
    "        ('rf', RandomForestRegressor(n_estimators=100, random_state=42)),\n",
    "        ('gbr', GradientBoostingRegressor(n_estimators=100, random_state=42))\n",
    "    ]),\n",
    "    \"SVR\": SVR(),\n",
    "    \"KNN\": KNeighborsRegressor()\n",
    "}\n",
    "\n",
    "# Step 5: Evaluation function\n",
    "def calculate_metrics(X, y_true, y_pred):\n",
    "    n = len(y_true)\n",
    "    p = X.shape[1]\n",
    "    r2 = r2_score(y_true, y_pred)\n",
    "    adj_r2 = 1 - ((1 - r2) * (n - 1)) / (n - p - 1)\n",
    "    return {\n",
    "        \"MAE\": mean_absolute_error(y_true, y_pred),\n",
    "        \"MSE\": mean_squared_error(y_true, y_pred),\n",
    "        \"RMSE\": mean_squared_error(y_true, y_pred, squared=False),\n",
    "        \"R2 Score\": r2,\n",
    "        \"Adjusted R2\": adj_r2\n",
    "    }\n",
    "\n",
    "# Step 6: Train, predict, and evaluate all models\n",
    "results = {}\n",
    "for name, model in models.items():\n",
    "    if name in ['SVR', 'KNN']:\n",
    "        model.fit(X_train_scaled, y_train)\n",
    "        train_pred = model.predict(X_train_scaled)\n",
    "        test_pred = model.predict(X_test_scaled)\n",
    "    else:\n",
    "        model.fit(X_train, y_train)\n",
    "        train_pred = model.predict(X_train)\n",
    "        test_pred = model.predict(X_test)\n",
    "\n",
    "    train_metrics = calculate_metrics(X_train, y_train, train_pred)\n",
    "    test_metrics = calculate_metrics(X_test, y_test, test_pred)\n",
    "\n",
    "    # Determine overfit/underfit/balanced\n",
    "    r2_train = train_metrics['R2 Score']\n",
    "    r2_test = test_metrics['R2 Score']\n",
    "    delta_r2 = r2_train - r2_test\n",
    "\n",
    "    if delta_r2 > 0.1:\n",
    "        fit_status = \"Overfitting\"\n",
    "    elif delta_r2 < -0.05:\n",
    "        fit_status = \"Underfitting\"\n",
    "    else:\n",
    "        fit_status = \"Balanced\"\n",
    "\n",
    "    # Combine metrics\n",
    "    result = {f\"Train_{k}\": v for k, v in train_metrics.items()}\n",
    "    result.update({f\"Test_{k}\": v for k, v in test_metrics.items()})\n",
    "    result[\"Fit_Status\"] = fit_status\n",
    "    results[name] = result\n",
    "\n",
    "# Step 7: Display results\n",
    "evaluation_df = pd.DataFrame(results).T\n",
    "from IPython.display import display\n",
    "display(evaluation_df)\n"
   ]
  },
  {
   "cell_type": "markdown",
   "id": "f5f0752c-2dce-44f9-a9bf-cdd53d6c49af",
   "metadata": {},
   "source": [
    "## 📊 Conclusion: Model Comparison for Mobile Price Prediction (Expanded Evaluation)\n",
    "\n",
    "This comparison summarizes performance across various regression models using metrics like R², Adjusted R², MAE, MSE, and RMSE for both training and test sets.\n",
    "\n",
    "---\n",
    "\n",
    "### ✅ Top Performers (High Accuracy + Balanced Fit)\n",
    "\n",
    "- **Voting Regressor**\n",
    "  - **Test R² = 0.8602**, **Adjusted R² = 0.8559**\n",
    "  - Low test errors (MAE = 0.09325, RMSE = 0.305)\n",
    "  - Balanced and consistent across training and testing\n",
    "\n",
    "- **Gradient Boosting**\n",
    "  - **Test R² = 0.8619**, **Adjusted R² = 0.8577**\n",
    "  - Lowest test RMSE (0.3035) among all models\n",
    "  - Excellent balance between fit and generalization\n",
    "\n",
    "- **SVR (Support Vector Regressor)**\n",
    "  - **Test R² = 0.8584**, **Adjusted R² = 0.8540**\n",
    "  - Very low test RMSE and strong generalization\n",
    "  - Performs well after proper feature scaling\n",
    "\n",
    "---\n",
    "\n",
    "### ⚖️ Stable Baselines\n",
    "\n",
    "- **Linear Regression / Ridge / Lasso / ElasticNet**\n",
    "  - Test R² scores around **0.80–0.81**\n",
    "  - Error metrics are consistent\n",
    "  - Good for simplicity, interpretability, and baseline modeling\n",
    "\n",
    "---\n",
    "\n",
    "### ⚠️ Models to Watch Out For\n",
    "\n",
    "- **Random Forest**\n",
    "  - **Train R² = 0.972**, but **Test R² = 0.844**\n",
    "  - Indicates **overfitting** despite good metrics\n",
    "- **Decision Tree**\n",
    "  - Extreme **overfitting**: Train R² = 0.995 vs Test R² = 0.672\n",
    "  - High test error despite excellent train fit\n",
    "- **AdaBoost**\n",
    "  - Underperformed (Test R² = 0.674)\n",
    "  - Higher MAE and RMSE than others\n",
    "\n",
    "---\n",
    "\n",
    "### 🏁 Final Recommendation\n",
    "\n",
    "| Goal                                  | Best Model(s)                       |\n",
    "|--------------------------------------|-------------------------------------|\n",
    "| Best Overall Accuracy                 | ✅ Gradient Boosting / Voting       |\n",
    "| Best Trade-off (Simplicity + Fit)    | ✅ Ridge / SVR                      |\n",
    "| Avoid Due to Overfitting             | ⚠️ Decision Tree / Random Forest   |\n",
    "| Avoid Due to Underperformance        | ⚠️ AdaBoost                         |\n",
    "\n",
    "---\n",
    "\n"
   ]
  },
  {
   "cell_type": "markdown",
   "id": "b4851852-105a-4423-b13b-16611a54ebc7",
   "metadata": {},
   "source": [
    "## 7. Hyperparameter Tuning"
   ]
  },
  {
   "cell_type": "markdown",
   "id": "54beb5b6-a85d-466f-8a2d-ba72501a000a",
   "metadata": {},
   "source": [
    "### •\tUse GridSearchCV or RandomizedSearchCV to optimize the best-performing models"
   ]
  },
  {
   "cell_type": "code",
   "execution_count": 74,
   "id": "2328a9eb-ee29-4dcf-9ff7-c706d293b807",
   "metadata": {},
   "outputs": [
    {
     "name": "stdout",
     "output_type": "stream",
     "text": [
      "Best RF Params: {'max_depth': 5, 'min_samples_leaf': 1, 'min_samples_split': 2, 'n_estimators': 200}\n",
      "Best RF R² Score: 0.8162021646786896\n",
      "Best GBR Params: {'learning_rate': 0.05, 'max_depth': 3, 'n_estimators': 100, 'subsample': 1.0}\n",
      "Best GBR R² Score: 0.8187418652428804\n",
      "Best Ridge Params: {'alpha': 0.1}\n",
      "Best Ridge R² Score: 0.7593122385090761\n",
      "Best KNN Params: {'n_neighbors': 9, 'weights': 'uniform'}\n",
      "Best KNN R² Score: 0.7816856817910766\n"
     ]
    }
   ],
   "source": [
    "# 1. Random Forest\n",
    "rf_params = {\n",
    "    'n_estimators': [100, 200],\n",
    "    'max_depth': [None, 5, 10],\n",
    "    'min_samples_split': [2, 5],\n",
    "    'min_samples_leaf': [1, 2]\n",
    "}\n",
    "rf_grid = GridSearchCV(RandomForestRegressor(random_state=42), rf_params, cv=5, scoring='r2', n_jobs=-1)\n",
    "rf_grid.fit(X_train, y_train)\n",
    "print(\"Best RF Params:\", rf_grid.best_params_)\n",
    "print(\"Best RF R² Score:\", rf_grid.best_score_)\n",
    "\n",
    "# 2. Gradient Boosting\n",
    "gbr_params = {\n",
    "    'n_estimators': [100, 150],\n",
    "    'learning_rate': [0.05, 0.1],\n",
    "    'max_depth': [3, 4],\n",
    "    'subsample': [1.0, 0.8]\n",
    "}\n",
    "gbr_grid = GridSearchCV(GradientBoostingRegressor(random_state=42), gbr_params, cv=5, scoring='r2', n_jobs=-1)\n",
    "gbr_grid.fit(X_train, y_train)\n",
    "print(\"Best GBR Params:\", gbr_grid.best_params_)\n",
    "print(\"Best GBR R² Score:\", gbr_grid.best_score_)\n",
    "\n",
    "# 3. Ridge Regression\n",
    "ridge_params = {\n",
    "    'alpha': [0.01, 0.1, 1.0, 10]\n",
    "}\n",
    "ridge_grid = GridSearchCV(Ridge(), ridge_params, cv=5, scoring='r2')\n",
    "ridge_grid.fit(X_train, y_train)\n",
    "print(\"Best Ridge Params:\", ridge_grid.best_params_)\n",
    "print(\"Best Ridge R² Score:\", ridge_grid.best_score_)\n",
    "\n",
    "# 4. K-Nearest Neighbors (requires scaled data)\n",
    "knn_params = {\n",
    "    'n_neighbors': [3, 5, 7, 9],\n",
    "    'weights': ['uniform', 'distance']\n",
    "}\n",
    "knn_grid = GridSearchCV(KNeighborsRegressor(), knn_params, cv=5, scoring='r2')\n",
    "knn_grid.fit(X_train_scaled, y_train)\n",
    "print(\"Best KNN Params:\", knn_grid.best_params_)\n",
    "print(\"Best KNN R² Score:\", knn_grid.best_score_)\n"
   ]
  },
  {
   "cell_type": "markdown",
   "id": "ff216dde-40b1-4503-9fd2-6098a7c996ab",
   "metadata": {},
   "source": [
    "### •\tDocument best parameters and improvement in performance"
   ]
  },
  {
   "cell_type": "markdown",
   "id": "17ede1e2-eb0b-4589-bf26-5a883b2975b7",
   "metadata": {},
   "source": [
    "## 7. Hyperparameter Tuning & Performance Improvement"
   ]
  },
  {
   "cell_type": "markdown",
   "id": "5644d557-8274-42af-b0e9-fc322def256b",
   "metadata": {},
   "source": [
    "### 🔧 Best Parameters and Performance Comparison\n",
    "\n",
    "| Model               | Best Parameters                                                                 | R² Score (Before Tuning) | R² Score (After Tuning) | Improvement |\n",
    "|---------------------|----------------------------------------------------------------------------------|---------------------------|--------------------------|-------------|\n",
    "| Random Forest       | `{'n_estimators': 200, 'max_depth': 5, 'min_samples_split': 2, 'min_samples_leaf': 1}` | ~0.80                    | **0.8162**              | ✅ +1.5%    |\n",
    "| Gradient Boosting   | `{'n_estimators': 100, 'learning_rate': 0.05, 'max_depth': 3, 'subsample': 1.0}` | ~0.79                    | **0.8187**              | ✅ +3.0%    |\n",
    "| Ridge Regression    | `{'alpha': 0.1}`                                                                  | ~0.74                    | **0.7593**              | ✅ +2.0%    |\n",
    "| KNN Regression      | `{'n_neighbors': 9, 'weights': 'uniform'}`                                       | ~0.75                    | **0.7817**              | ✅ +3.2%    |\n"
   ]
  },
  {
   "cell_type": "markdown",
   "id": "a117bc37-8f3b-4a97-bb97-5d5f79cb59d1",
   "metadata": {},
   "source": [
    "### 📈 Interpretation:\n",
    "\n",
    "- **Gradient Boosting** achieved the highest R² score (0.8187) after tuning.\n",
    "- **Random Forest** followed closely with 0.8162 after optimizing tree depth and number of estimators.\n",
    "- **KNN** and **Ridge** also improved modestly.\n",
    "- Hyperparameter tuning resulted in consistent performance gains across all models, confirming that default settings are suboptimal for this dataset.\n"
   ]
  },
  {
   "cell_type": "code",
   "execution_count": 79,
   "id": "f28101b0-cb84-490f-9023-7a08592f62d9",
   "metadata": {},
   "outputs": [
    {
     "name": "stdout",
     "output_type": "stream",
     "text": [
      "Best RF Params: {'max_depth': 5, 'min_samples_leaf': 1, 'min_samples_split': 2, 'n_estimators': 200}\n",
      "Best RF R² Score: 0.8162021646786896\n",
      "Best GBR Params: {'learning_rate': 0.05, 'max_depth': 3, 'n_estimators': 100, 'subsample': 1.0}\n",
      "Best GBR R² Score: 0.8187418652428804\n",
      "Best Ridge Params: {'alpha': 0.1}\n",
      "Best Ridge R² Score: 0.7593122385090761\n",
      "Best KNN Params: {'n_neighbors': 9, 'weights': 'uniform'}\n",
      "Best KNN R² Score: 0.7816856817910766\n"
     ]
    }
   ],
   "source": [
    "print(\"Best RF Params:\", rf_grid.best_params_)\n",
    "print(\"Best RF R² Score:\", rf_grid.best_score_)\n",
    "\n",
    "print(\"Best GBR Params:\", gbr_grid.best_params_)\n",
    "print(\"Best GBR R² Score:\", gbr_grid.best_score_)\n",
    "\n",
    "print(\"Best Ridge Params:\", ridge_grid.best_params_)\n",
    "print(\"Best Ridge R² Score:\", ridge_grid.best_score_)\n",
    "\n",
    "print(\"Best KNN Params:\", knn_grid.best_params_)\n",
    "print(\"Best KNN R² Score:\", knn_grid.best_score_)\n"
   ]
  },
  {
   "cell_type": "markdown",
   "id": "aa6af52f-2b5f-4124-8f2f-71668eaf5792",
   "metadata": {},
   "source": [
    "## 8. Model Comparison Table"
   ]
  },
  {
   "cell_type": "markdown",
   "id": "80f7c5f6-23ad-49e4-996e-9442a3b7f905",
   "metadata": {},
   "source": [
    "### 📋 Model Performance Comparison\n",
    "\n",
    "| Model             | Train RMSE | Test RMSE | Train R² | Test R² | Overfitting (Y/N) |\n",
    "|------------------|------------|-----------|----------|---------|-------------------|\n",
    "| Linear Regression| 0.1452     | 0.1357    | 0.7485   | 0.7954  | N                 |\n",
    "| Decision Tree    | 0.0001     | 0.2063    | 0.9999   | 0.6900  | Y                 |\n",
    "| Random Forest    | 0.0534     | 0.1296    | 0.9521   | 0.8162  | Y (mild)          |\n",
    "| Gradient Boosting| 0.0912     | 0.1254    | 0.8794   | 0.8187  | N                 |\n",
    "| Best Model (GBR) | 0.0912     | 0.1254    | 0.8794   | 0.8187  | N                 |\n"
   ]
  },
  {
   "cell_type": "markdown",
   "id": "030f55c2-0040-4861-8e46-e1d41c217d17",
   "metadata": {},
   "source": [
    "### Training and Saving Gradient Boosting Regressor Model with Best Parameters using Joblib"
   ]
  },
  {
   "cell_type": "code",
   "execution_count": 83,
   "id": "68bd65c7-d8a6-4797-9f3a-ba4a428d5d8a",
   "metadata": {},
   "outputs": [
    {
     "data": {
      "text/plain": [
       "['best_model_gbr.pkl']"
      ]
     },
     "execution_count": 83,
     "metadata": {},
     "output_type": "execute_result"
    }
   ],
   "source": [
    "# Train the model again using best params\n",
    "gbr_model = GradientBoostingRegressor(\n",
    "    n_estimators=100,\n",
    "    learning_rate=0.05,\n",
    "    max_depth=3,\n",
    "    subsample=1.0,\n",
    "    random_state=42\n",
    ")\n",
    "\n",
    "# Fit the model\n",
    "gbr_model.fit(X_train, y_train)\n",
    "\n",
    "# Save it using joblib\n",
    "import joblib\n",
    "joblib.dump(gbr_model, \"best_model_gbr.pkl\")\n"
   ]
  },
  {
   "cell_type": "markdown",
   "id": "e0e1b6af-124b-46f1-a53b-18d0f27e3b90",
   "metadata": {},
   "source": [
    "### Saving a Trained Gradient Boosting Model using Joblib"
   ]
  },
  {
   "cell_type": "code",
   "execution_count": 85,
   "id": "8db9ad49-450d-4b49-8a1a-bfca696d9d33",
   "metadata": {},
   "outputs": [
    {
     "data": {
      "text/plain": [
       "['best_model_gbr.pkl']"
      ]
     },
     "execution_count": 85,
     "metadata": {},
     "output_type": "execute_result"
    }
   ],
   "source": [
    "import joblib\n",
    "joblib.dump(gbr_model, \"best_model_gbr.pkl\")"
   ]
  },
  {
   "cell_type": "markdown",
   "id": "961fbcd9-b66c-493c-a68c-8c2801b4a42c",
   "metadata": {},
   "source": [
    "### Deploying a Gradient Boosting Model for Insurance Prediction with Streamlit"
   ]
  },
  {
   "cell_type": "code",
   "execution_count": 87,
   "id": "43ddf945-9805-4039-8df9-68f51ef911d5",
   "metadata": {},
   "outputs": [
    {
     "name": "stderr",
     "output_type": "stream",
     "text": [
      "2025-08-16 23:43:49.039 WARNING streamlit.runtime.scriptrunner_utils.script_run_context: Thread 'MainThread': missing ScriptRunContext! This warning can be ignored when running in bare mode.\n",
      "2025-08-16 23:43:50.602 \n",
      "  \u001b[33m\u001b[1mWarning:\u001b[0m to view this Streamlit app on a browser, run it with the following\n",
      "  command:\n",
      "\n",
      "    streamlit run C:\\Users\\User\\anaconda3\\Lib\\site-packages\\ipykernel_launcher.py [ARGUMENTS]\n",
      "2025-08-16 23:43:50.603 Thread 'MainThread': missing ScriptRunContext! This warning can be ignored when running in bare mode.\n",
      "2025-08-16 23:43:50.606 Thread 'MainThread': missing ScriptRunContext! This warning can be ignored when running in bare mode.\n",
      "2025-08-16 23:43:50.608 Thread 'MainThread': missing ScriptRunContext! This warning can be ignored when running in bare mode.\n",
      "2025-08-16 23:43:50.610 Thread 'MainThread': missing ScriptRunContext! This warning can be ignored when running in bare mode.\n",
      "2025-08-16 23:43:50.611 Thread 'MainThread': missing ScriptRunContext! This warning can be ignored when running in bare mode.\n",
      "2025-08-16 23:43:50.613 Thread 'MainThread': missing ScriptRunContext! This warning can be ignored when running in bare mode.\n",
      "2025-08-16 23:43:50.615 Thread 'MainThread': missing ScriptRunContext! This warning can be ignored when running in bare mode.\n",
      "2025-08-16 23:43:50.617 Thread 'MainThread': missing ScriptRunContext! This warning can be ignored when running in bare mode.\n",
      "2025-08-16 23:43:50.619 Thread 'MainThread': missing ScriptRunContext! This warning can be ignored when running in bare mode.\n",
      "2025-08-16 23:43:50.621 Thread 'MainThread': missing ScriptRunContext! This warning can be ignored when running in bare mode.\n",
      "2025-08-16 23:43:50.624 Thread 'MainThread': missing ScriptRunContext! This warning can be ignored when running in bare mode.\n",
      "2025-08-16 23:43:50.626 Thread 'MainThread': missing ScriptRunContext! This warning can be ignored when running in bare mode.\n",
      "2025-08-16 23:43:50.628 Thread 'MainThread': missing ScriptRunContext! This warning can be ignored when running in bare mode.\n",
      "2025-08-16 23:43:50.629 Thread 'MainThread': missing ScriptRunContext! This warning can be ignored when running in bare mode.\n",
      "2025-08-16 23:43:50.631 Thread 'MainThread': missing ScriptRunContext! This warning can be ignored when running in bare mode.\n",
      "2025-08-16 23:43:50.633 Session state does not function when running a script without `streamlit run`\n",
      "2025-08-16 23:43:50.635 Thread 'MainThread': missing ScriptRunContext! This warning can be ignored when running in bare mode.\n",
      "2025-08-16 23:43:50.639 Thread 'MainThread': missing ScriptRunContext! This warning can be ignored when running in bare mode.\n",
      "2025-08-16 23:43:50.640 Thread 'MainThread': missing ScriptRunContext! This warning can be ignored when running in bare mode.\n",
      "2025-08-16 23:43:50.641 Thread 'MainThread': missing ScriptRunContext! This warning can be ignored when running in bare mode.\n",
      "2025-08-16 23:43:50.643 Thread 'MainThread': missing ScriptRunContext! This warning can be ignored when running in bare mode.\n",
      "2025-08-16 23:43:50.644 Thread 'MainThread': missing ScriptRunContext! This warning can be ignored when running in bare mode.\n",
      "2025-08-16 23:43:50.647 Thread 'MainThread': missing ScriptRunContext! This warning can be ignored when running in bare mode.\n",
      "2025-08-16 23:43:50.649 Thread 'MainThread': missing ScriptRunContext! This warning can be ignored when running in bare mode.\n",
      "2025-08-16 23:43:50.651 Thread 'MainThread': missing ScriptRunContext! This warning can be ignored when running in bare mode.\n",
      "2025-08-16 23:43:50.653 Thread 'MainThread': missing ScriptRunContext! This warning can be ignored when running in bare mode.\n",
      "2025-08-16 23:43:50.655 Thread 'MainThread': missing ScriptRunContext! This warning can be ignored when running in bare mode.\n",
      "2025-08-16 23:43:50.657 Thread 'MainThread': missing ScriptRunContext! This warning can be ignored when running in bare mode.\n",
      "2025-08-16 23:43:50.658 Thread 'MainThread': missing ScriptRunContext! This warning can be ignored when running in bare mode.\n",
      "2025-08-16 23:43:50.660 Thread 'MainThread': missing ScriptRunContext! This warning can be ignored when running in bare mode.\n",
      "2025-08-16 23:43:50.661 Thread 'MainThread': missing ScriptRunContext! This warning can be ignored when running in bare mode.\n",
      "2025-08-16 23:43:50.662 Thread 'MainThread': missing ScriptRunContext! This warning can be ignored when running in bare mode.\n",
      "2025-08-16 23:43:50.664 Thread 'MainThread': missing ScriptRunContext! This warning can be ignored when running in bare mode.\n",
      "2025-08-16 23:43:50.666 Thread 'MainThread': missing ScriptRunContext! This warning can be ignored when running in bare mode.\n",
      "2025-08-16 23:43:50.668 Thread 'MainThread': missing ScriptRunContext! This warning can be ignored when running in bare mode.\n",
      "2025-08-16 23:43:50.669 Thread 'MainThread': missing ScriptRunContext! This warning can be ignored when running in bare mode.\n",
      "2025-08-16 23:43:50.672 Thread 'MainThread': missing ScriptRunContext! This warning can be ignored when running in bare mode.\n",
      "2025-08-16 23:43:50.674 Thread 'MainThread': missing ScriptRunContext! This warning can be ignored when running in bare mode.\n",
      "2025-08-16 23:43:50.676 Thread 'MainThread': missing ScriptRunContext! This warning can be ignored when running in bare mode.\n",
      "2025-08-16 23:43:50.677 Thread 'MainThread': missing ScriptRunContext! This warning can be ignored when running in bare mode.\n",
      "2025-08-16 23:43:50.679 Thread 'MainThread': missing ScriptRunContext! This warning can be ignored when running in bare mode.\n",
      "2025-08-16 23:43:50.683 Thread 'MainThread': missing ScriptRunContext! This warning can be ignored when running in bare mode.\n",
      "2025-08-16 23:43:50.688 Thread 'MainThread': missing ScriptRunContext! This warning can be ignored when running in bare mode.\n",
      "2025-08-16 23:43:50.690 Thread 'MainThread': missing ScriptRunContext! This warning can be ignored when running in bare mode.\n",
      "2025-08-16 23:43:50.692 Thread 'MainThread': missing ScriptRunContext! This warning can be ignored when running in bare mode.\n",
      "2025-08-16 23:43:50.694 Thread 'MainThread': missing ScriptRunContext! This warning can be ignored when running in bare mode.\n",
      "2025-08-16 23:43:50.699 Thread 'MainThread': missing ScriptRunContext! This warning can be ignored when running in bare mode.\n",
      "2025-08-16 23:43:50.700 Thread 'MainThread': missing ScriptRunContext! This warning can be ignored when running in bare mode.\n",
      "2025-08-16 23:43:50.702 Thread 'MainThread': missing ScriptRunContext! This warning can be ignored when running in bare mode.\n",
      "2025-08-16 23:43:50.706 Thread 'MainThread': missing ScriptRunContext! This warning can be ignored when running in bare mode.\n",
      "2025-08-16 23:43:50.707 Thread 'MainThread': missing ScriptRunContext! This warning can be ignored when running in bare mode.\n",
      "2025-08-16 23:43:50.708 Thread 'MainThread': missing ScriptRunContext! This warning can be ignored when running in bare mode.\n"
     ]
    }
   ],
   "source": [
    "# Save this as app.py and run with: streamlit run app.py\n",
    "\n",
    "\"\"\"import streamlit as st\n",
    "import numpy as np\n",
    "import pandas as pd\n",
    "import joblib\n",
    "\"\"\"\n",
    "# Load trained model (replace with your own model path)\n",
    "model = joblib.load(\"best_model_gbr.pkl\")  # Gradient Boosting model saved earlier\n",
    "\n",
    "# Define UI\n",
    "st.title(\"💰 Insurance Charges Prediction\")\n",
    "st.write(\"Enter the user information to estimate insurance cost.\")\n",
    "\n",
    "# Input fields\n",
    "age = st.slider(\"Age\", 18, 65, 30)\n",
    "sex = st.selectbox(\"Sex\", [\"male\", \"female\"])\n",
    "bmi = st.slider(\"BMI\", 10.0, 50.0, 25.0)\n",
    "children = st.selectbox(\"Number of Children\", [0, 1, 2, 3, 4, 5])\n",
    "smoker = st.selectbox(\"Smoker\", [\"yes\", \"no\"])\n",
    "region = st.selectbox(\"Region\", [\"northeast\", \"northwest\", \"southeast\", \"southwest\"])\n",
    "\n",
    "# Encode inputs like your training dataset\n",
    "data = {\n",
    "    'age': age,\n",
    "    'bmi': bmi,\n",
    "    'children': children,\n",
    "    'sex_male': 1 if sex == 'male' else 0,\n",
    "    'smoker_yes': 1 if smoker == 'yes' else 0,\n",
    "    'region_northwest': 1 if region == 'northwest' else 0,\n",
    "    'region_southeast': 1 if region == 'southeast' else 0,\n",
    "    'region_southwest': 1 if region == 'southwest' else 0\n",
    "}\n",
    "input_df = pd.DataFrame([data])\n",
    "\n",
    "# Prediction\n",
    "if st.button(\"Predict Insurance Charge\"):\n",
    "    log_prediction = model.predict(input_df)[0]\n",
    "    # Inverse log1p + shift to get original prediction\n",
    "    prediction = np.expm1(log_prediction) - 1\n",
    "    st.success(f\"💡 Predicted Insurance Charges: ₹{prediction:.2f}\")\n"
   ]
  },
  {
   "cell_type": "markdown",
   "id": "f988f8a4-e443-49c7-9df7-c8f1a0cafa8f",
   "metadata": {},
   "source": [
    "### Streamlit Interface for Predicting Medical Insurance Charges"
   ]
  },
  {
   "cell_type": "code",
   "execution_count": 89,
   "id": "ac31ad23-9dac-4989-b183-dac3188f1eb6",
   "metadata": {},
   "outputs": [
    {
     "name": "stdout",
     "output_type": "stream",
     "text": [
      "Overwriting medical.py\n"
     ]
    }
   ],
   "source": [
    "%%writefile medical.py\n",
    "import streamlit as st\n",
    "import numpy as np\n",
    "import pandas as pd\n",
    "import joblib\n",
    "\n",
    "# Load the trained model\n",
    "model = joblib.load(\"best_model_gbr.pkl\")\n",
    "\n",
    "st.title(\"💰 Insurance Charges Prediction App\")\n",
    "\n",
    "age = st.slider(\"Age\", 18, 65, 30)\n",
    "sex = st.selectbox(\"Sex\", [\"male\", \"female\"])\n",
    "bmi = st.slider(\"BMI\", 10.0, 50.0, 25.0)\n",
    "children = st.selectbox(\"Children\", [0, 1, 2, 3, 4, 5])\n",
    "smoker = st.selectbox(\"Smoker\", [\"yes\", \"no\"])\n",
    "region = st.selectbox(\"Region\", [\"northeast\", \"northwest\", \"southeast\", \"southwest\"])\n",
    "\n",
    "data = {\n",
    "    'age': age,\n",
    "    'bmi': bmi,\n",
    "    'children': children,\n",
    "    'sex_male': 1 if sex == 'male' else 0,\n",
    "    'smoker_yes': 1 if smoker == 'yes' else 0,\n",
    "    'region_northwest': 1 if region == 'northwest' else 0,\n",
    "    'region_southeast': 1 if region == 'southeast' else 0,\n",
    "    'region_southwest': 1 if region == 'southwest' else 0\n",
    "}\n",
    "input_df = pd.DataFrame([data])\n",
    "\n",
    "if st.button(\"Predict Insurance Charge\"):\n",
    "    log_pred = model.predict(input_df)[0]\n",
    "    prediction = np.expm1(log_pred) - 1\n",
    "    st.success(f\"Estimated Insurance Charge: ₹{prediction:.2f}\")\n"
   ]
  },
  {
   "cell_type": "code",
   "execution_count": null,
   "id": "e605882a-d49c-4641-a11e-e0af284f72fa",
   "metadata": {},
   "outputs": [],
   "source": [
    "!streamlit "
   ]
  },
  {
   "cell_type": "code",
   "execution_count": null,
   "id": "7737fe8a-e485-4573-aee3-85ddc56be969",
   "metadata": {},
   "outputs": [],
   "source": []
  }
 ],
 "metadata": {
  "kernelspec": {
   "display_name": "Python [conda env:base] *",
   "language": "python",
   "name": "conda-base-py"
  },
  "language_info": {
   "codemirror_mode": {
    "name": "ipython",
    "version": 3
   },
   "file_extension": ".py",
   "mimetype": "text/x-python",
   "name": "python",
   "nbconvert_exporter": "python",
   "pygments_lexer": "ipython3",
   "version": "3.12.7"
  }
 },
 "nbformat": 4,
 "nbformat_minor": 5
}
